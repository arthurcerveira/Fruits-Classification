{
 "cells": [
  {
   "cell_type": "markdown",
   "id": "statistical-cooperation",
   "metadata": {
    "papermill": {
     "duration": 0.012698,
     "end_time": "2021-06-02T14:18:25.036296",
     "exception": false,
     "start_time": "2021-06-02T14:18:25.023598",
     "status": "completed"
    },
    "tags": []
   },
   "source": [
    "This task intends to measure your deep learning basic skills. We will provide you a dataset containing 131 different fruits. Download it from this [link](https:///www.kaggle.com/moltean/fruits), download it and upload it to your copy of this file\n",
    "\n",
    "You have to implement a Convolutional Neural Network to classify the input fruit image. For this task, you must follow the following rules:\n",
    "\n",
    "- Use a ResNet50 as your CNN backbone.\n",
    "- The model output must be a probability score for all the classes.\n",
    "- You can implement the model in any Deep Learning framework that you are used to use.\n",
    "- Make sure you write your code following the best practices.\n",
    "- Make sure you document all the steps you took to solve the problem."
   ]
  },
  {
   "cell_type": "code",
   "execution_count": 1,
   "id": "fifty-venice",
   "metadata": {
    "execution": {
     "iopub.execute_input": "2021-06-02T14:18:25.069767Z",
     "iopub.status.busy": "2021-06-02T14:18:25.069177Z",
     "iopub.status.idle": "2021-06-02T14:18:25.710887Z",
     "shell.execute_reply": "2021-06-02T14:18:25.709887Z",
     "shell.execute_reply.started": "2021-06-02T13:30:41.208592Z"
    },
    "papermill": {
     "duration": 0.663148,
     "end_time": "2021-06-02T14:18:25.711066",
     "exception": false,
     "start_time": "2021-06-02T14:18:25.047918",
     "status": "completed"
    },
    "tags": []
   },
   "outputs": [
    {
     "name": "stdout",
     "output_type": "stream",
     "text": [
      "/kaggle/input/fruits\n",
      "fruits-360\r\n"
     ]
    }
   ],
   "source": [
    "%cd /kaggle/input/fruits\n",
    "!ls"
   ]
  },
  {
   "cell_type": "code",
   "execution_count": 2,
   "id": "champion-palestinian",
   "metadata": {
    "execution": {
     "iopub.execute_input": "2021-06-02T14:18:25.742025Z",
     "iopub.status.busy": "2021-06-02T14:18:25.741279Z",
     "iopub.status.idle": "2021-06-02T14:18:27.852100Z",
     "shell.execute_reply": "2021-06-02T14:18:27.851627Z",
     "shell.execute_reply.started": "2021-06-02T13:30:41.861355Z"
    },
    "papermill": {
     "duration": 2.128676,
     "end_time": "2021-06-02T14:18:27.852232",
     "exception": false,
     "start_time": "2021-06-02T14:18:25.723556",
     "status": "completed"
    },
    "tags": []
   },
   "outputs": [],
   "source": [
    "# Load and transform the dataset\n",
    "import os\n",
    "\n",
    "from torchvision.datasets import ImageFolder\n",
    "from torchvision.transforms import transforms, ToTensor\n",
    "from torch.utils.data import random_split, DataLoader\n",
    "\n",
    "# Train the model\n",
    "import copy \n",
    "import time\n",
    "\n",
    "import torch\n",
    "import torch.nn as nn\n",
    "from torchvision import models\n",
    "\n",
    "# Evaluate the model\n",
    "import seaborn as sns\n",
    "import matplotlib.pyplot as plt\n",
    "from sklearn.metrics import confusion_matrix, classification_report"
   ]
  },
  {
   "cell_type": "markdown",
   "id": "manual-colorado",
   "metadata": {
    "papermill": {
     "duration": 0.011846,
     "end_time": "2021-06-02T14:18:27.876361",
     "exception": false,
     "start_time": "2021-06-02T14:18:27.864515",
     "status": "completed"
    },
    "tags": []
   },
   "source": [
    "## Loading the dataset\n",
    "\n",
    "* Load and transform the dataset\n",
    "* Split the training data into training and validation\n",
    "* Get the dataset classes\n",
    "* Create Dataloaders with the datasets"
   ]
  },
  {
   "cell_type": "code",
   "execution_count": 3,
   "id": "alien-adapter",
   "metadata": {
    "execution": {
     "iopub.execute_input": "2021-06-02T14:18:27.908767Z",
     "iopub.status.busy": "2021-06-02T14:18:27.908157Z",
     "iopub.status.idle": "2021-06-02T14:18:47.097827Z",
     "shell.execute_reply": "2021-06-02T14:18:47.097145Z",
     "shell.execute_reply.started": "2021-06-02T13:30:44.229715Z"
    },
    "papermill": {
     "duration": 19.20939,
     "end_time": "2021-06-02T14:18:47.097970",
     "exception": false,
     "start_time": "2021-06-02T14:18:27.888580",
     "status": "completed"
    },
    "tags": []
   },
   "outputs": [
    {
     "name": "stdout",
     "output_type": "stream",
     "text": [
      "Training dataset size: 67692\n",
      "Test dataset size: 22688\n"
     ]
    }
   ],
   "source": [
    "train_directory = './fruits-360/Training'\n",
    "test_directory = './fruits-360/Test'\n",
    "\n",
    "transform = transforms.Compose([\n",
    "    transforms.Resize([224, 224]),  # 224x224 is image size used in pre-trained models\n",
    "    transforms.ToTensor()\n",
    "])\n",
    "\n",
    "\n",
    "train_dataset = ImageFolder(train_directory, transform=transform)\n",
    "print('Training dataset size:', len(train_dataset))\n",
    "test_dataset = ImageFolder(test_directory, transform=transform)\n",
    "print('Test dataset size:', len(test_dataset))"
   ]
  },
  {
   "cell_type": "code",
   "execution_count": 4,
   "id": "responsible-april",
   "metadata": {
    "execution": {
     "iopub.execute_input": "2021-06-02T14:18:47.131257Z",
     "iopub.status.busy": "2021-06-02T14:18:47.130586Z",
     "iopub.status.idle": "2021-06-02T14:18:47.159735Z",
     "shell.execute_reply": "2021-06-02T14:18:47.160148Z",
     "shell.execute_reply.started": "2021-06-02T13:31:05.130718Z"
    },
    "papermill": {
     "duration": 0.048959,
     "end_time": "2021-06-02T14:18:47.160308",
     "exception": false,
     "start_time": "2021-06-02T14:18:47.111349",
     "status": "completed"
    },
    "tags": []
   },
   "outputs": [
    {
     "data": {
      "text/plain": [
       "(60923, 6769)"
      ]
     },
     "execution_count": 4,
     "metadata": {},
     "output_type": "execute_result"
    }
   ],
   "source": [
    "# Split training and validation data\n",
    "validation_size = int(0.1 * len(train_dataset))  # Validation represents 10% of the training data\n",
    "training_size = len(train_dataset) - validation_size\n",
    "\n",
    "train_dataset, validation_dataset = random_split(train_dataset, \n",
    "                                                 [training_size, validation_size])\n",
    "len(train_dataset), len(validation_dataset) "
   ]
  },
  {
   "cell_type": "code",
   "execution_count": 5,
   "id": "pharmaceutical-warrant",
   "metadata": {
    "execution": {
     "iopub.execute_input": "2021-06-02T14:18:47.189898Z",
     "iopub.status.busy": "2021-06-02T14:18:47.189325Z",
     "iopub.status.idle": "2021-06-02T14:18:47.196082Z",
     "shell.execute_reply": "2021-06-02T14:18:47.195665Z",
     "shell.execute_reply.started": "2021-06-02T13:31:05.166505Z"
    },
    "papermill": {
     "duration": 0.022924,
     "end_time": "2021-06-02T14:18:47.196204",
     "exception": false,
     "start_time": "2021-06-02T14:18:47.173280",
     "status": "completed"
    },
    "tags": []
   },
   "outputs": [
    {
     "data": {
      "text/plain": [
       "131"
      ]
     },
     "execution_count": 5,
     "metadata": {},
     "output_type": "execute_result"
    }
   ],
   "source": [
    "# Get dataset classes\n",
    "classes = os.listdir(train_directory)\n",
    "\n",
    "len(classes)"
   ]
  },
  {
   "cell_type": "code",
   "execution_count": 6,
   "id": "anonymous-hurricane",
   "metadata": {
    "execution": {
     "iopub.execute_input": "2021-06-02T14:18:47.228097Z",
     "iopub.status.busy": "2021-06-02T14:18:47.227149Z",
     "iopub.status.idle": "2021-06-02T14:18:47.229713Z",
     "shell.execute_reply": "2021-06-02T14:18:47.229267Z",
     "shell.execute_reply.started": "2021-06-02T13:31:05.174412Z"
    },
    "papermill": {
     "duration": 0.020605,
     "end_time": "2021-06-02T14:18:47.229835",
     "exception": false,
     "start_time": "2021-06-02T14:18:47.209230",
     "status": "completed"
    },
    "tags": []
   },
   "outputs": [],
   "source": [
    "# Create data loaders from datasets\n",
    "batch_size = 32\n",
    "\n",
    "training_loader = DataLoader(dataset=train_dataset, batch_size=batch_size, shuffle=True)\n",
    "test_loader = DataLoader(dataset=test_dataset, batch_size=batch_size, shuffle=False)\n",
    "validation_loader = DataLoader(dataset=validation_dataset, batch_size=batch_size, shuffle=False)"
   ]
  },
  {
   "cell_type": "markdown",
   "id": "mounted-audience",
   "metadata": {
    "papermill": {
     "duration": 0.012973,
     "end_time": "2021-06-02T14:18:47.255818",
     "exception": false,
     "start_time": "2021-06-02T14:18:47.242845",
     "status": "completed"
    },
    "tags": []
   },
   "source": [
    "## Training the model\n",
    "\n",
    "* Implement the train and evaluation steps\n",
    "* Implement the model training function\n",
    "* Load ResNet50 as backbone model\n",
    "* Set hyperparameters and model operations\n",
    "* Train the model"
   ]
  },
  {
   "cell_type": "code",
   "execution_count": 7,
   "id": "leading-sweden",
   "metadata": {
    "execution": {
     "iopub.execute_input": "2021-06-02T14:18:47.340218Z",
     "iopub.status.busy": "2021-06-02T14:18:47.339284Z",
     "iopub.status.idle": "2021-06-02T14:18:47.343980Z",
     "shell.execute_reply": "2021-06-02T14:18:47.344489Z",
     "shell.execute_reply.started": "2021-06-02T13:31:05.182048Z"
    },
    "papermill": {
     "duration": 0.075739,
     "end_time": "2021-06-02T14:18:47.344655",
     "exception": false,
     "start_time": "2021-06-02T14:18:47.268916",
     "status": "completed"
    },
    "tags": []
   },
   "outputs": [
    {
     "data": {
      "text/plain": [
       "device(type='cuda', index=0)"
      ]
     },
     "execution_count": 7,
     "metadata": {},
     "output_type": "execute_result"
    }
   ],
   "source": [
    "device =  torch.device(\"cuda:0\" if torch.cuda.is_available() else \"cpu\")\n",
    "\n",
    "\n",
    "def training_step(model, criterion, optimizer, dataloader_train):\n",
    "    running_loss = 0.0\n",
    "\n",
    "    # Iterate over data.\n",
    "    for inputs, labels in dataloader_train:\n",
    "        inputs = inputs.to(device)\n",
    "        labels = labels.to(device)\n",
    "\n",
    "        # Zero the parameter gradients\n",
    "        optimizer.zero_grad()\n",
    "\n",
    "        with torch.set_grad_enabled(True):\n",
    "            outputs = model(inputs)\n",
    "            loss = criterion(outputs, labels)\n",
    "\n",
    "            loss.backward()\n",
    "            optimizer.step()\n",
    "\n",
    "        running_loss += loss.item()\n",
    "        \n",
    "    return running_loss\n",
    "\n",
    "\n",
    "def evaluation_step(model, criterion, optimizer, dataloader_val):\n",
    "    running_loss = 0.0\n",
    "    running_corrects = 0\n",
    "    \n",
    "    # Iterate over data.\n",
    "    for inputs, labels in dataloader_val:\n",
    "        inputs = inputs.to(device)\n",
    "        labels = labels.to(device)\n",
    "\n",
    "        outputs = model(inputs)\n",
    "        loss = criterion(outputs, labels)\n",
    "\n",
    "        running_loss += loss.item()\n",
    "        _, preds = torch.max(outputs, 1)\n",
    "        running_corrects += torch.sum(preds == labels.data)\n",
    "    \n",
    "    return running_loss, running_corrects\n",
    "\n",
    "\n",
    "def train_model(model, criterion, optimizer, scheduler, num_epochs=5):\n",
    "    history = {\n",
    "        'train_loss': list(),\n",
    "        'validation_loss': list(), \n",
    "        'validation_accuracy': list()\n",
    "    }\n",
    "    \n",
    "    since = time.time()\n",
    "    \n",
    "    best_model = copy.deepcopy(model.state_dict())\n",
    "    best_accuracy = 0.0\n",
    "\n",
    "    for epoch in range(num_epochs):\n",
    "        print(f'Epoch {epoch}/{num_epochs - 1}')\n",
    "        print('-' * 10)\n",
    "\n",
    "        # Training step\n",
    "        model.train() \n",
    "\n",
    "        running_loss = training_step(\n",
    "            model, criterion, optimizer, training_loader\n",
    "        )\n",
    "    \n",
    "        train_epoch_loss = running_loss / len(training_loader.dataset)\n",
    "        \n",
    "        scheduler.step()\n",
    "\n",
    "        # Evaluation step\n",
    "        model.eval()\n",
    "\n",
    "        running_loss, running_corrects = evaluation_step(\n",
    "            model, criterion, optimizer, validation_loader\n",
    "        )\n",
    "\n",
    "        validation_epoch_loss = running_loss / len(validation_loader.dataset)\n",
    "        epoch_accuracy = running_corrects.double() / len(validation_loader.dataset)\n",
    "\n",
    "        print(f'Training Loss: {train_epoch_loss:.4f} '\n",
    "            + f'Validation Loss: {validation_epoch_loss:.4f} '\n",
    "            + f'Accuracy: {epoch_accuracy:.4f}\\n')\n",
    "        \n",
    "        history['train_loss'].append(train_epoch_loss)\n",
    "        history['validation_loss'].append(validation_epoch_loss)\n",
    "        history['validation_accuracy'].append(epoch_accuracy)\n",
    "\n",
    "        # Deep copy the model if it presents the best accuracy\n",
    "        if epoch_accuracy > best_accuracy:\n",
    "            best_accuracy = epoch_accuracy\n",
    "            best_model = copy.deepcopy(model.state_dict())\n",
    "\n",
    "    time_elapsed = time.time() - since\n",
    "    minutes = time_elapsed // 60\n",
    "    seconds = time_elapsed % 60\n",
    "    \n",
    "    print(f'Training complete in {minutes:.0f}m {seconds:.0f}s')\n",
    "    print(f'Best accuracy: {best_accuracy:4f}')\n",
    "\n",
    "    # Load best model weights\n",
    "    model.load_state_dict(best_model)\n",
    "    return model, history\n",
    "\n",
    "\n",
    "device"
   ]
  },
  {
   "cell_type": "code",
   "execution_count": 8,
   "id": "private-shelf",
   "metadata": {
    "execution": {
     "iopub.execute_input": "2021-06-02T14:18:47.386613Z",
     "iopub.status.busy": "2021-06-02T14:18:47.385918Z",
     "iopub.status.idle": "2021-06-02T14:18:57.911680Z",
     "shell.execute_reply": "2021-06-02T14:18:57.911171Z",
     "shell.execute_reply.started": "2021-06-02T13:31:05.280831Z"
    },
    "papermill": {
     "duration": 10.552962,
     "end_time": "2021-06-02T14:18:57.911822",
     "exception": false,
     "start_time": "2021-06-02T14:18:47.358860",
     "status": "completed"
    },
    "tags": []
   },
   "outputs": [
    {
     "name": "stderr",
     "output_type": "stream",
     "text": [
      "Downloading: \"https://download.pytorch.org/models/resnet50-19c8e357.pth\" to /root/.cache/torch/hub/checkpoints/resnet50-19c8e357.pth\n"
     ]
    },
    {
     "data": {
      "application/vnd.jupyter.widget-view+json": {
       "model_id": "74bb3316c28141eda7c3e5e02216debc",
       "version_major": 2,
       "version_minor": 0
      },
      "text/plain": [
       "  0%|          | 0.00/97.8M [00:00<?, ?B/s]"
      ]
     },
     "metadata": {},
     "output_type": "display_data"
    }
   ],
   "source": [
    "# Load ResNet50 as backbone\n",
    "model_base = models.resnet50(pretrained=True)\n",
    "num_features = model_base.fc.in_features\n",
    "model_base.fc = nn.Linear(num_features, len(classes))\n",
    "\n",
    "# Load model to GPU\n",
    "model_base.to(device)\n",
    "\n",
    "# Hyper-parameters\n",
    "step_size  = 7\n",
    "gamma = 0.1\n",
    "\n",
    "criterion = nn.CrossEntropyLoss()\n",
    "optimizer_ft = torch.optim.Adam(model_base.parameters())\n",
    "scheduler = torch.optim.lr_scheduler.StepLR(optimizer_ft, step_size=step_size, gamma=gamma)"
   ]
  },
  {
   "cell_type": "code",
   "execution_count": 9,
   "id": "wicked-patch",
   "metadata": {
    "execution": {
     "iopub.execute_input": "2021-06-02T14:18:57.949006Z",
     "iopub.status.busy": "2021-06-02T14:18:57.948427Z",
     "iopub.status.idle": "2021-06-02T14:53:17.301144Z",
     "shell.execute_reply": "2021-06-02T14:53:17.301795Z",
     "shell.execute_reply.started": "2021-06-02T13:31:21.174324Z"
    },
    "papermill": {
     "duration": 2059.372859,
     "end_time": "2021-06-02T14:53:17.302015",
     "exception": false,
     "start_time": "2021-06-02T14:18:57.929156",
     "status": "completed"
    },
    "tags": []
   },
   "outputs": [
    {
     "name": "stdout",
     "output_type": "stream",
     "text": [
      "Epoch 0/2\n",
      "----------\n",
      "Training Loss: 0.0155 Validation Loss: 0.0087 Accuracy: 0.9468\n",
      "\n",
      "Epoch 1/2\n",
      "----------\n",
      "Training Loss: 0.0020 Validation Loss: 0.0003 Accuracy: 0.9976\n",
      "\n",
      "Epoch 2/2\n",
      "----------\n",
      "Training Loss: 0.0015 Validation Loss: 0.0000 Accuracy: 1.0000\n",
      "\n",
      "Training complete in 34m 19s\n",
      "Best accuracy: 1.000000\n"
     ]
    }
   ],
   "source": [
    "model, history = train_model(model_base, criterion, optimizer_ft, scheduler, num_epochs=3)"
   ]
  },
  {
   "cell_type": "markdown",
   "id": "inclusive-africa",
   "metadata": {
    "papermill": {
     "duration": 0.015082,
     "end_time": "2021-06-02T14:53:17.333446",
     "exception": false,
     "start_time": "2021-06-02T14:53:17.318364",
     "status": "completed"
    },
    "tags": []
   },
   "source": [
    "## Evaluating the model\n",
    "\n",
    "* Plot the model accuracyand loss over the epochs\n",
    "* Measure the model accuracy for the test dataset\n",
    "* Assess the dataset classes for each evalution metric\n",
    "* Plot the heatmap with the results"
   ]
  },
  {
   "cell_type": "code",
   "execution_count": 10,
   "id": "negative-europe",
   "metadata": {
    "execution": {
     "iopub.execute_input": "2021-06-02T14:53:17.386309Z",
     "iopub.status.busy": "2021-06-02T14:53:17.385307Z",
     "iopub.status.idle": "2021-06-02T14:53:17.495186Z",
     "shell.execute_reply": "2021-06-02T14:53:17.496007Z",
     "shell.execute_reply.started": "2021-06-02T14:06:47.171193Z"
    },
    "papermill": {
     "duration": 0.147546,
     "end_time": "2021-06-02T14:53:17.496170",
     "exception": false,
     "start_time": "2021-06-02T14:53:17.348624",
     "status": "completed"
    },
    "tags": []
   },
   "outputs": [
    {
     "data": {
      "image/png": "[encoded data removed]",
      "text/plain": [
       "<Figure size 432x288 with 1 Axes>"
      ]
     },
     "metadata": {
      "needs_background": "light"
     },
     "output_type": "display_data"
    }
   ],
   "source": [
    "def plot_accuracy(history):\n",
    "    accuracy = history[\"validation_accuracy\"]\n",
    "    epochs = range(len(accuracy))\n",
    "    \n",
    "    plt.plot(accuracy, \"-x\")\n",
    "    plt.xticks(epochs)\n",
    "\n",
    "    plt.title(\"Accuracy x Number of Epochs\")\n",
    "    plt.xlabel(\"Epochs\")\n",
    "    plt.ylabel(\"Accuracy\")\n",
    "\n",
    "\n",
    "plot_accuracy(history)"
   ]
  },
  {
   "cell_type": "code",
   "execution_count": 11,
   "id": "atmospheric-estonia",
   "metadata": {
    "execution": {
     "iopub.execute_input": "2021-06-02T14:53:17.553618Z",
     "iopub.status.busy": "2021-06-02T14:53:17.549135Z",
     "iopub.status.idle": "2021-06-02T14:53:17.662446Z",
     "shell.execute_reply": "2021-06-02T14:53:17.662846Z",
     "shell.execute_reply.started": "2021-06-02T14:06:47.300360Z"
    },
    "papermill": {
     "duration": 0.150651,
     "end_time": "2021-06-02T14:53:17.662996",
     "exception": false,
     "start_time": "2021-06-02T14:53:17.512345",
     "status": "completed"
    },
    "tags": []
   },
   "outputs": [
    {
     "data": {
      "image/png": "[encoded data removed]",
      "text/plain": [
       "<Figure size 432x288 with 1 Axes>"
      ]
     },
     "metadata": {
      "needs_background": "light"
     },
     "output_type": "display_data"
    }
   ],
   "source": [
    "def plot_losses(history):\n",
    "    train_loss = history[\"train_loss\"]\n",
    "    validation_loss = history[\"validation_loss\"]\n",
    "    epochs = range(len(train_loss))\n",
    "    \n",
    "    plt.plot(train_loss, \"-rx\")  # r = Red\n",
    "    plt.plot(validation_loss, \"-bx\")  # b = Blue\n",
    "    plt.xticks(epochs)\n",
    "    \n",
    "    plt.legend([\"Training loss\", \"Validation loss\"])\n",
    "    plt.xlabel(\"Epochs\")\n",
    "    plt.ylabel(\"Losses (%)\")\n",
    "\n",
    "\n",
    "plot_losses(history)"
   ]
  },
  {
   "cell_type": "code",
   "execution_count": 12,
   "id": "educational-lying",
   "metadata": {
    "execution": {
     "iopub.execute_input": "2021-06-02T14:53:17.703183Z",
     "iopub.status.busy": "2021-06-02T14:53:17.702698Z",
     "iopub.status.idle": "2021-06-02T14:56:13.555680Z",
     "shell.execute_reply": "2021-06-02T14:56:13.556088Z",
     "shell.execute_reply.started": "2021-06-02T14:06:47.429152Z"
    },
    "papermill": {
     "duration": 175.876437,
     "end_time": "2021-06-02T14:56:13.556257",
     "exception": false,
     "start_time": "2021-06-02T14:53:17.679820",
     "status": "completed"
    },
    "tags": []
   },
   "outputs": [
    {
     "name": "stdout",
     "output_type": "stream",
     "text": [
      "Accuracy: 0.9925\n"
     ]
    }
   ],
   "source": [
    "def evaluate(model, data_loader):\n",
    "    correct_predictions = 0.0\n",
    "    model.eval()\n",
    "    y_hat = list()\n",
    "    y_true = list()\n",
    "    \n",
    "    for (inputs, labels) in data_loader:\n",
    "        inputs = inputs.to(device)\n",
    "        labels = labels.to(device)\n",
    "\n",
    "        outputs = model(inputs)\n",
    "        _, preds = torch.max(outputs, 1)\n",
    "        \n",
    "        y_hat.append(preds)\n",
    "        correct_predictions += torch.sum(preds == labels.data)\n",
    "\n",
    "    accuracy = correct_predictions.double() / len(data_loader.dataset)\n",
    "    return accuracy, y_true, y_hat\n",
    "\n",
    "\n",
    "accuracy, y_true, y_hat = evaluate(model, test_loader)\n",
    "print(f'Accuracy: {accuracy:.4f}')"
   ]
  },
  {
   "cell_type": "code",
   "execution_count": 13,
   "id": "psychological-expression",
   "metadata": {
    "execution": {
     "iopub.execute_input": "2021-06-02T14:56:13.595324Z",
     "iopub.status.busy": "2021-06-02T14:56:13.594628Z",
     "iopub.status.idle": "2021-06-02T14:56:59.303073Z",
     "shell.execute_reply": "2021-06-02T14:56:59.303499Z",
     "shell.execute_reply.started": "2021-06-02T14:09:37.913955Z"
    },
    "papermill": {
     "duration": 45.731071,
     "end_time": "2021-06-02T14:56:59.303657",
     "exception": false,
     "start_time": "2021-06-02T14:56:13.572586",
     "status": "completed"
    },
    "tags": []
   },
   "outputs": [
    {
     "name": "stdout",
     "output_type": "stream",
     "text": [
      "                     precision    recall  f1-score   support\n",
      "\n",
      "             Quince       1.00      0.98      0.99       164\n",
      "   Grapefruit White       1.00      1.00      1.00       148\n",
      "         Granadilla       1.00      1.00      1.00       160\n",
      "             Orange       1.00      1.00      1.00       164\n",
      "        Apple Red 3       1.00      1.00      1.00       161\n",
      "      Grape White 2       1.00      1.00      1.00       164\n",
      "          Corn Husk       0.93      1.00      0.96       152\n",
      "          Tamarillo       0.99      1.00      0.99       164\n",
      "         Banana Red       0.98      1.00      0.99       164\n",
      "     Nectarine Flat       1.00      1.00      1.00       144\n",
      "      Pepper Yellow       1.00      1.00      1.00       166\n",
      "         Nut Forest       1.00      1.00      1.00       164\n",
      "       Pear Monster       1.00      1.00      1.00       219\n",
      "                Fig       1.00      1.00      1.00       164\n",
      "       Tomato Heart       1.00      1.00      1.00       143\n",
      "   Onion Red Peeled       1.00      1.00      1.00       166\n",
      "        Lemon Meyer       0.99      1.00      1.00       166\n",
      "          Onion Red       0.99      1.00      0.99       152\n",
      "      Passion Fruit       0.98      1.00      0.99       166\n",
      "      Cucumber Ripe       1.00      1.00      1.00       150\n",
      "       Cactus fruit       0.99      1.00      1.00       154\n",
      " Tomato not Ripened       1.00      1.00      1.00       166\n",
      "          Mango Red       1.00      1.00      1.00       164\n",
      "    Apple Pink Lady       1.00      1.00      1.00       164\n",
      "        Pomegranate       0.96      0.93      0.95       166\n",
      "               Plum       1.00      1.00      1.00       234\n",
      "          Pineapple       1.00      1.00      1.00       164\n",
      "           Tomato 1       1.00      1.00      1.00       246\n",
      "           Cherry 2       1.00      1.00      1.00       246\n",
      "        Apple Red 2       0.99      1.00      1.00       164\n",
      "       Avocado ripe       1.00      1.00      1.00       164\n",
      "              Dates       1.00      1.00      1.00       164\n",
      "           Maracuja       0.99      1.00      0.99       153\n",
      "             Papaya       1.00      1.00      1.00       166\n",
      "          Nut Pecan       1.00      1.00      1.00       166\n",
      "         Pear Stone       1.00      0.61      0.76       150\n",
      "  Cherry Wax Yellow       1.00      0.69      0.82       154\n",
      "           Eggplant       1.00      1.00      1.00       130\n",
      "     Apple Golden 2       1.00      1.00      1.00       156\n",
      "              Guava       1.00      1.00      1.00       166\n",
      "           Beetroot       1.00      0.83      0.91       156\n",
      "      Tomato Maroon       1.00      1.00      1.00       234\n",
      "         Potato Red       1.00      1.00      1.00        99\n",
      "Apple Red Delicious       1.00      1.00      1.00       166\n",
      "     Cherry Wax Red       1.00      1.00      1.00       328\n",
      "               Kiwi       1.00      1.00      1.00       164\n",
      "   Cherry Wax Black       1.00      1.00      1.00       166\n",
      "              Limes       1.00      1.00      1.00       166\n",
      "       Cantaloupe 2       1.00      1.00      1.00       164\n",
      "     Apple Braeburn       1.00      1.00      1.00       158\n",
      "               Pear       1.00      1.00      1.00       166\n",
      "          Carambula       1.00      1.00      1.00       164\n",
      "           Tomato 3       1.00      1.00      1.00       166\n",
      "        Onion White       1.00      1.00      1.00       157\n",
      "           Cherry 1       1.00      1.00      1.00       166\n",
      "         Strawberry       1.00      1.00      1.00       166\n",
      "             Lychee       1.00      1.00      1.00       156\n",
      "         Redcurrant       1.00      1.00      1.00       157\n",
      "           Rambutan       1.00      1.00      1.00       166\n",
      "  Potato Red Washed       1.00      1.00      1.00       164\n",
      "           Tomato 4       1.00      1.00      1.00       166\n",
      "           Hazelnut       1.00      1.00      1.00       166\n",
      "      Tomato Yellow       1.00      1.00      1.00       166\n",
      "             Plum 3       1.00      1.00      1.00       166\n",
      "        Grape White       1.00      1.00      1.00       166\n",
      "     Pineapple Mini       1.00      1.00      1.00       142\n",
      "           Mulberry       0.99      1.00      1.00       102\n",
      "         Grape Blue       1.00      1.00      1.00       166\n",
      "         Pear Abate       1.00      1.00      1.00       246\n",
      " Melon Piel de Sapo       1.00      1.00      1.00       164\n",
      "      Pepper Orange       1.00      1.00      1.00       164\n",
      "        Cauliflower       1.00      1.00      1.00       160\n",
      "          Nectarine       1.00      1.00      1.00       218\n",
      "              Salak       0.99      1.00      1.00       178\n",
      "              Cocos       0.99      1.00      1.00       150\n",
      "           Chestnut       1.00      1.00      1.00       155\n",
      "          Blueberry       0.93      1.00      0.96       146\n",
      " Apple Granny Smith       1.00      1.00      1.00       160\n",
      " Banana Lady Finger       1.00      1.00      1.00       164\n",
      "            Apricot       0.99      1.00      0.99       166\n",
      "             Walnut       1.00      1.00      1.00       164\n",
      " Apple Crimson Snow       0.89      1.00      0.94       246\n",
      "    Grapefruit Pink       1.00      1.00      1.00       164\n",
      "            Tangelo       1.00      1.00      1.00       164\n",
      "         Peach Flat       1.00      0.95      0.97       232\n",
      "       Pear Forelle       1.00      0.98      0.99       166\n",
      "         Pepper Red       1.00      1.00      1.00       234\n",
      "  Tomato Cherry Red       1.00      1.00      1.00       102\n",
      "      Pear Williams       1.00      1.00      1.00       166\n",
      "         Clementine       1.00      1.00      1.00       222\n",
      "     Apple Golden 3       0.79      1.00      0.88       237\n",
      "        Apple Red 1       1.00      1.00      1.00       166\n",
      "             Pear 2       1.00      1.00      1.00       166\n",
      "             Plum 2       1.00      1.00      1.00       148\n",
      "       Cantaloupe 1       1.00      1.00      1.00       234\n",
      "              Lemon       1.00      1.00      1.00       222\n",
      " Physalis with Husk       1.00      1.00      1.00       222\n",
      "            Peach 2       1.00      1.00      1.00       164\n",
      "             Pepino       0.92      0.99      0.96       164\n",
      "        Huckleberry       1.00      1.00      1.00       166\n",
      "       Potato White       1.00      1.00      1.00       163\n",
      "       Pitahaya Red       1.00      1.00      1.00       166\n",
      "     Apple Golden 1       1.00      1.00      1.00       151\n",
      "     Pomelo Sweetie       1.00      0.99      0.99       142\n",
      "     Cherry Rainier       1.00      1.00      1.00       304\n",
      "            Avocado       1.00      0.99      0.99       164\n",
      " Apple Red Yellow 2       1.00      1.00      1.00       153\n",
      "          Raspberry       1.00      1.00      1.00       150\n",
      "          Mangostan       1.00      0.99      1.00       151\n",
      "   Strawberry Wedge       1.00      1.00      1.00       150\n",
      "               Kaki       1.00      1.00      1.00       150\n",
      "          Mandarine       0.96      1.00      0.98       166\n",
      "       Potato Sweet       1.00      1.00      1.00       164\n",
      "    Cucumber Ripe 2       1.00      1.00      1.00       166\n",
      "           Kumquats       1.00      1.00      1.00       164\n",
      "           Pear Red       1.00      1.00      1.00       162\n",
      "        Ginger Root       1.00      1.00      1.00       164\n",
      "           Physalis       1.00      0.99      0.99       246\n",
      "        Pear Kaiser       0.99      1.00      0.99       166\n",
      "              Peach       1.00      1.00      1.00       166\n",
      "               Corn       1.00      1.00      1.00       246\n",
      "      Grape White 3       1.00      1.00      1.00       225\n",
      " Apple Red Yellow 1       1.00      1.00      1.00       246\n",
      "         Grape Pink       1.00      1.00      1.00       160\n",
      "             Banana       1.00      1.00      1.00       164\n",
      "      Grape White 4       1.00      1.00      1.00       228\n",
      "           Kohlrabi       1.00      1.00      1.00       127\n",
      "       Pepper Green       1.00      1.00      1.00       153\n",
      "         Watermelon       1.00      1.00      1.00       158\n",
      "              Mango       1.00      1.00      1.00       249\n",
      "           Tomato 2       0.96      1.00      0.98       157\n",
      "\n",
      "           accuracy                           0.99     22688\n",
      "          macro avg       0.99      0.99      0.99     22688\n",
      "       weighted avg       0.99      0.99      0.99     22688\n",
      "\n"
     ]
    },
    {
     "data": {
      "image/png": "[encoded data removed]",
      "text/plain": [
       "<Figure size 1440x1440 with 2 Axes>"
      ]
     },
     "metadata": {
      "needs_background": "light"
     },
     "output_type": "display_data"
    }
   ],
   "source": [
    "def evaluate_classes(data_loader, y_true, y_hat):\n",
    "    Y_true = list()\n",
    "    Y_hat = list()\n",
    "    \n",
    "    for inputs, labels in iter(data_loader):\n",
    "        for y_true in labels.cpu().numpy():\n",
    "            Y_true.append(y_true)\n",
    "\n",
    "    for joint in y_hat:\n",
    "        for label in joint.cpu().numpy():\n",
    "            Y_hat.append(label)\n",
    "        \n",
    "    report = classification_report(Y_true, Y_hat, target_names=classes, zero_division=0)\n",
    "    plt.rcParams[\"figure.figsize\"] = (20,20)\n",
    "\n",
    "    sns.heatmap(confusion_matrix(Y_true, Y_hat))\n",
    "    \n",
    "    return report\n",
    "\n",
    "\n",
    "report = evaluate_classes(test_loader, y_true, y_hat)\n",
    "print(report)"
   ]
  }
 ],
 "metadata": {
  "kernelspec": {
   "display_name": "Python 3",
   "language": "python",
   "name": "python3"
  },
  "language_info": {
   "codemirror_mode": {
    "name": "ipython",
    "version": 3
   },
   "file_extension": ".py",
   "mimetype": "text/x-python",
   "name": "python",
   "nbconvert_exporter": "python",
   "pygments_lexer": "ipython3",
   "version": "3.7.10"
  },
  "papermill": {
   "default_parameters": {},
   "duration": 2322.174956,
   "end_time": "2021-06-02T14:57:00.798322",
   "environment_variables": {},
   "exception": null,
   "input_path": "__notebook__.ipynb",
   "output_path": "__notebook__.ipynb",
   "parameters": {},
   "start_time": "2021-06-02T14:18:18.623366",
   "version": "2.3.3"
  },
  "widgets": {
   "application/vnd.jupyter.widget-state+json": {
    "state": {
     "28f9f9ca117f4e8180b0cb48f1f46236": {
      "model_module": "@jupyter-widgets/base",
      "model_module_version": "1.2.0",
      "model_name": "LayoutModel",
      "state": {
       "_model_module": "@jupyter-widgets/base",
       "_model_module_version": "1.2.0",
       "_model_name": "LayoutModel",
       "_view_count": null,
       "_view_module": "@jupyter-widgets/base",
       "_view_module_version": "1.2.0",
       "_view_name": "LayoutView",
       "align_content": null,
       "align_items": null,
       "align_self": null,
       "border": null,
       "bottom": null,
       "display": null,
       "flex": null,
       "flex_flow": null,
       "grid_area": null,
       "grid_auto_columns": null,
       "grid_auto_flow": null,
       "grid_auto_rows": null,
       "grid_column": null,
       "grid_gap": null,
       "grid_row": null,
       "grid_template_areas": null,
       "grid_template_columns": null,
       "grid_template_rows": null,
       "height": null,
       "justify_content": null,
       "justify_items": null,
       "left": null,
       "margin": null,
       "max_height": null,
       "max_width": null,
       "min_height": null,
       "min_width": null,
       "object_fit": null,
       "object_position": null,
       "order": null,
       "overflow": null,
       "overflow_x": null,
       "overflow_y": null,
       "padding": null,
       "right": null,
       "top": null,
       "visibility": null,
       "width": null
      }
     },
     "3a7b294bd3224e4989d9cca8ac395730": {
      "model_module": "@jupyter-widgets/controls",
      "model_module_version": "1.5.0",
      "model_name": "HTMLModel",
      "state": {
       "_dom_classes": [],
       "_model_module": "@jupyter-widgets/controls",
       "_model_module_version": "1.5.0",
       "_model_name": "HTMLModel",
       "_view_count": null,
       "_view_module": "@jupyter-widgets/controls",
       "_view_module_version": "1.5.0",
       "_view_name": "HTMLView",
       "description": "",
       "description_tooltip": null,
       "layout": "IPY_MODEL_d08e294904ca45ec8e60af9157352029",
       "placeholder": "​",
       "style": "IPY_MODEL_963a8fa9b7dc406b939e94975d70b5e9",
       "value": " 97.8M/97.8M [00:05&lt;00:00, 24.0MB/s]"
      }
     },
     "4de21884876046a3b185bf9fa0853180": {
      "model_module": "@jupyter-widgets/controls",
      "model_module_version": "1.5.0",
      "model_name": "ProgressStyleModel",
      "state": {
       "_model_module": "@jupyter-widgets/controls",
       "_model_module_version": "1.5.0",
       "_model_name": "ProgressStyleModel",
       "_view_count": null,
       "_view_module": "@jupyter-widgets/base",
       "_view_module_version": "1.2.0",
       "_view_name": "StyleView",
       "bar_color": null,
       "description_width": ""
      }
     },
     "5969fb31909a48edaa758e6b854fd92f": {
      "model_module": "@jupyter-widgets/controls",
      "model_module_version": "1.5.0",
      "model_name": "FloatProgressModel",
      "state": {
       "_dom_classes": [],
       "_model_module": "@jupyter-widgets/controls",
       "_model_module_version": "1.5.0",
       "_model_name": "FloatProgressModel",
       "_view_count": null,
       "_view_module": "@jupyter-widgets/controls",
       "_view_module_version": "1.5.0",
       "_view_name": "ProgressView",
       "bar_style": "success",
       "description": "",
       "description_tooltip": null,
       "layout": "IPY_MODEL_7278b325fd4541889b59e0921afcd981",
       "max": 102502400.0,
       "min": 0.0,
       "orientation": "horizontal",
       "style": "IPY_MODEL_4de21884876046a3b185bf9fa0853180",
       "value": 102502400.0
      }
     },
     "7278b325fd4541889b59e0921afcd981": {
      "model_module": "@jupyter-widgets/base",
      "model_module_version": "1.2.0",
      "model_name": "LayoutModel",
      "state": {
       "_model_module": "@jupyter-widgets/base",
       "_model_module_version": "1.2.0",
       "_model_name": "LayoutModel",
       "_view_count": null,
       "_view_module": "@jupyter-widgets/base",
       "_view_module_version": "1.2.0",
       "_view_name": "LayoutView",
       "align_content": null,
       "align_items": null,
       "align_self": null,
       "border": null,
       "bottom": null,
       "display": null,
       "flex": null,
       "flex_flow": null,
       "grid_area": null,
       "grid_auto_columns": null,
       "grid_auto_flow": null,
       "grid_auto_rows": null,
       "grid_column": null,
       "grid_gap": null,
       "grid_row": null,
       "grid_template_areas": null,
       "grid_template_columns": null,
       "grid_template_rows": null,
       "height": null,
       "justify_content": null,
       "justify_items": null,
       "left": null,
       "margin": null,
       "max_height": null,
       "max_width": null,
       "min_height": null,
       "min_width": null,
       "object_fit": null,
       "object_position": null,
       "order": null,
       "overflow": null,
       "overflow_x": null,
       "overflow_y": null,
       "padding": null,
       "right": null,
       "top": null,
       "visibility": null,
       "width": null
      }
     },
     "74bb3316c28141eda7c3e5e02216debc": {
      "model_module": "@jupyter-widgets/controls",
      "model_module_version": "1.5.0",
      "model_name": "HBoxModel",
      "state": {
       "_dom_classes": [],
       "_model_module": "@jupyter-widgets/controls",
       "_model_module_version": "1.5.0",
       "_model_name": "HBoxModel",
       "_view_count": null,
       "_view_module": "@jupyter-widgets/controls",
       "_view_module_version": "1.5.0",
       "_view_name": "HBoxView",
       "box_style": "",
       "children": [
        "IPY_MODEL_98a89717ed7142918fddb86add9b7251",
        "IPY_MODEL_5969fb31909a48edaa758e6b854fd92f",
        "IPY_MODEL_3a7b294bd3224e4989d9cca8ac395730"
       ],
       "layout": "IPY_MODEL_28f9f9ca117f4e8180b0cb48f1f46236"
      }
     },
     "7df4f76417f04ec294c10079d413c83a": {
      "model_module": "@jupyter-widgets/controls",
      "model_module_version": "1.5.0",
      "model_name": "DescriptionStyleModel",
      "state": {
       "_model_module": "@jupyter-widgets/controls",
       "_model_module_version": "1.5.0",
       "_model_name": "DescriptionStyleModel",
       "_view_count": null,
       "_view_module": "@jupyter-widgets/base",
       "_view_module_version": "1.2.0",
       "_view_name": "StyleView",
       "description_width": ""
      }
     },
     "963a8fa9b7dc406b939e94975d70b5e9": {
      "model_module": "@jupyter-widgets/controls",
      "model_module_version": "1.5.0",
      "model_name": "DescriptionStyleModel",
      "state": {
       "_model_module": "@jupyter-widgets/controls",
       "_model_module_version": "1.5.0",
       "_model_name": "DescriptionStyleModel",
       "_view_count": null,
       "_view_module": "@jupyter-widgets/base",
       "_view_module_version": "1.2.0",
       "_view_name": "StyleView",
       "description_width": ""
      }
     },
     "98a89717ed7142918fddb86add9b7251": {
      "model_module": "@jupyter-widgets/controls",
      "model_module_version": "1.5.0",
      "model_name": "HTMLModel",
      "state": {
       "_dom_classes": [],
       "_model_module": "@jupyter-widgets/controls",
       "_model_module_version": "1.5.0",
       "_model_name": "HTMLModel",
       "_view_count": null,
       "_view_module": "@jupyter-widgets/controls",
       "_view_module_version": "1.5.0",
       "_view_name": "HTMLView",
       "description": "",
       "description_tooltip": null,
       "layout": "IPY_MODEL_eb4a64ff8edd4640a48179c360a8fa45",
       "placeholder": "​",
       "style": "IPY_MODEL_7df4f76417f04ec294c10079d413c83a",
       "value": "100%"
      }
     },
     "d08e294904ca45ec8e60af9157352029": {
      "model_module": "@jupyter-widgets/base",
      "model_module_version": "1.2.0",
      "model_name": "LayoutModel",
      "state": {
       "_model_module": "@jupyter-widgets/base",
       "_model_module_version": "1.2.0",
       "_model_name": "LayoutModel",
       "_view_count": null,
       "_view_module": "@jupyter-widgets/base",
       "_view_module_version": "1.2.0",
       "_view_name": "LayoutView",
       "align_content": null,
       "align_items": null,
       "align_self": null,
       "border": null,
       "bottom": null,
       "display": null,
       "flex": null,
       "flex_flow": null,
       "grid_area": null,
       "grid_auto_columns": null,
       "grid_auto_flow": null,
       "grid_auto_rows": null,
       "grid_column": null,
       "grid_gap": null,
       "grid_row": null,
       "grid_template_areas": null,
       "grid_template_columns": null,
       "grid_template_rows": null,
       "height": null,
       "justify_content": null,
       "justify_items": null,
       "left": null,
       "margin": null,
       "max_height": null,
       "max_width": null,
       "min_height": null,
       "min_width": null,
       "object_fit": null,
       "object_position": null,
       "order": null,
       "overflow": null,
       "overflow_x": null,
       "overflow_y": null,
       "padding": null,
       "right": null,
       "top": null,
       "visibility": null,
       "width": null
      }
     },
     "eb4a64ff8edd4640a48179c360a8fa45": {
      "model_module": "@jupyter-widgets/base",
      "model_module_version": "1.2.0",
      "model_name": "LayoutModel",
      "state": {
       "_model_module": "@jupyter-widgets/base",
       "_model_module_version": "1.2.0",
       "_model_name": "LayoutModel",
       "_view_count": null,
       "_view_module": "@jupyter-widgets/base",
       "_view_module_version": "1.2.0",
       "_view_name": "LayoutView",
       "align_content": null,
       "align_items": null,
       "align_self": null,
       "border": null,
       "bottom": null,
       "display": null,
       "flex": null,
       "flex_flow": null,
       "grid_area": null,
       "grid_auto_columns": null,
       "grid_auto_flow": null,
       "grid_auto_rows": null,
       "grid_column": null,
       "grid_gap": null,
       "grid_row": null,
       "grid_template_areas": null,
       "grid_template_columns": null,
       "grid_template_rows": null,
       "height": null,
       "justify_content": null,
       "justify_items": null,
       "left": null,
       "margin": null,
       "max_height": null,
       "max_width": null,
       "min_height": null,
       "min_width": null,
       "object_fit": null,
       "object_position": null,
       "order": null,
       "overflow": null,
       "overflow_x": null,
       "overflow_y": null,
       "padding": null,
       "right": null,
       "top": null,
       "visibility": null,
       "width": null
      }
     }
    },
    "version_major": 2,
    "version_minor": 0
   }
  }
 },
 "nbformat": 4,
 "nbformat_minor": 5
}
