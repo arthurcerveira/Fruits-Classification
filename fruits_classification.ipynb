{
 "cells": [
  {
   "cell_type": "markdown",
   "id": "substantial-locator",
   "metadata": {
    "papermill": {
     "duration": 0.014014,
     "end_time": "2021-06-04T17:27:14.020177",
     "exception": false,
     "start_time": "2021-06-04T17:27:14.006163",
     "status": "completed"
    },
    "tags": []
   },
   "source": [
    "# Fruits Classification\n",
    "\n",
    "This task intends to measure your deep learning basic skills. We will provide you a dataset containing 131 different fruits. Download it from this [link](https:///www.kaggle.com/moltean/fruits), download it and upload it to your copy of this file\n",
    "\n",
    "You have to implement a Convolutional Neural Network to classify the input fruit image. For this task, you must follow the following rules:\n",
    "\n",
    "- Use a ResNet50 as your CNN backbone.\n",
    "- The model output must be a probability score for all the classes.\n",
    "- You can implement the model in any Deep Learning framework that you are used to use.\n",
    "- Make sure you write your code following the best practices.\n",
    "- Make sure you document all the steps you took to solve the problem."
   ]
  },
  {
   "cell_type": "code",
   "execution_count": 1,
   "id": "cutting-plaintiff",
   "metadata": {
    "execution": {
     "iopub.execute_input": "2021-06-04T17:27:14.055623Z",
     "iopub.status.busy": "2021-06-04T17:27:14.055151Z",
     "iopub.status.idle": "2021-06-04T17:27:14.696129Z",
     "shell.execute_reply": "2021-06-04T17:27:14.695525Z",
     "shell.execute_reply.started": "2021-06-04T16:02:56.895478Z"
    },
    "papermill": {
     "duration": 0.663161,
     "end_time": "2021-06-04T17:27:14.696289",
     "exception": false,
     "start_time": "2021-06-04T17:27:14.033128",
     "status": "completed"
    },
    "tags": []
   },
   "outputs": [
    {
     "name": "stdout",
     "output_type": "stream",
     "text": [
      "/kaggle/input/fruits\n",
      "fruits-360\r\n"
     ]
    }
   ],
   "source": [
    "%cd /kaggle/input/fruits\n",
    "!ls"
   ]
  },
  {
   "cell_type": "code",
   "execution_count": 2,
   "id": "numerical-milton",
   "metadata": {
    "execution": {
     "iopub.execute_input": "2021-06-04T17:27:14.729619Z",
     "iopub.status.busy": "2021-06-04T17:27:14.728946Z",
     "iopub.status.idle": "2021-06-04T17:27:16.855518Z",
     "shell.execute_reply": "2021-06-04T17:27:16.855047Z",
     "shell.execute_reply.started": "2021-06-04T16:02:57.564625Z"
    },
    "papermill": {
     "duration": 2.145264,
     "end_time": "2021-06-04T17:27:16.855644",
     "exception": false,
     "start_time": "2021-06-04T17:27:14.710380",
     "status": "completed"
    },
    "tags": []
   },
   "outputs": [],
   "source": [
    "# Load and transform the dataset\n",
    "import os\n",
    "\n",
    "from torchvision.datasets import ImageFolder\n",
    "from torchvision.transforms import transforms, ToTensor\n",
    "from torch.utils.data import random_split, DataLoader\n",
    "\n",
    "# Train the model\n",
    "import copy \n",
    "import time\n",
    "\n",
    "import torch\n",
    "import torch.nn as nn\n",
    "from torchvision import models\n",
    "\n",
    "# Evaluate the model\n",
    "import seaborn as sns\n",
    "import matplotlib.pyplot as plt\n",
    "from sklearn.metrics import confusion_matrix, classification_report\n",
    "\n",
    "# Apply the model\n",
    "from random import choice\n",
    "\n",
    "import torch.nn.functional as nnf"
   ]
  },
  {
   "cell_type": "markdown",
   "id": "sitting-procurement",
   "metadata": {
    "papermill": {
     "duration": 0.013366,
     "end_time": "2021-06-04T17:27:16.882612",
     "exception": false,
     "start_time": "2021-06-04T17:27:16.869246",
     "status": "completed"
    },
    "tags": []
   },
   "source": [
    "## Loading the dataset\n",
    "\n",
    "* Load and transform the dataset\n",
    "* Split the training data into training and validation\n",
    "* Get the dataset classes\n",
    "* Create Dataloaders with the datasets"
   ]
  },
  {
   "cell_type": "code",
   "execution_count": 3,
   "id": "distinguished-instruction",
   "metadata": {
    "execution": {
     "iopub.execute_input": "2021-06-04T17:27:16.914310Z",
     "iopub.status.busy": "2021-06-04T17:27:16.913756Z",
     "iopub.status.idle": "2021-06-04T17:27:33.878364Z",
     "shell.execute_reply": "2021-06-04T17:27:33.877802Z",
     "shell.execute_reply.started": "2021-06-04T16:03:00.398289Z"
    },
    "papermill": {
     "duration": 16.982322,
     "end_time": "2021-06-04T17:27:33.878520",
     "exception": false,
     "start_time": "2021-06-04T17:27:16.896198",
     "status": "completed"
    },
    "tags": []
   },
   "outputs": [
    {
     "name": "stdout",
     "output_type": "stream",
     "text": [
      "Training dataset size: 67692\n",
      "Test dataset size: 22688\n"
     ]
    }
   ],
   "source": [
    "train_directory = './fruits-360/Training'\n",
    "test_directory = './fruits-360/Test'\n",
    "\n",
    "transform = transforms.Compose([\n",
    "    transforms.Resize([224, 224]),  # 224x224 is image size used in pre-trained models\n",
    "    transforms.ToTensor()\n",
    "])\n",
    "\n",
    "\n",
    "train_dataset = ImageFolder(train_directory, transform=transform)\n",
    "print('Training dataset size:', len(train_dataset))\n",
    "test_dataset = ImageFolder(test_directory, transform=transform)\n",
    "print('Test dataset size:', len(test_dataset))"
   ]
  },
  {
   "cell_type": "code",
   "execution_count": 4,
   "id": "gross-cement",
   "metadata": {
    "execution": {
     "iopub.execute_input": "2021-06-04T17:27:33.916506Z",
     "iopub.status.busy": "2021-06-04T17:27:33.915842Z",
     "iopub.status.idle": "2021-06-04T17:27:33.940495Z",
     "shell.execute_reply": "2021-06-04T17:27:33.941050Z",
     "shell.execute_reply.started": "2021-06-04T16:03:15.111699Z"
    },
    "papermill": {
     "duration": 0.046467,
     "end_time": "2021-06-04T17:27:33.941190",
     "exception": false,
     "start_time": "2021-06-04T17:27:33.894723",
     "status": "completed"
    },
    "tags": []
   },
   "outputs": [
    {
     "data": {
      "text/plain": [
       "(60923, 6769)"
      ]
     },
     "execution_count": 4,
     "metadata": {},
     "output_type": "execute_result"
    }
   ],
   "source": [
    "# Split training and validation data\n",
    "validation_size = int(0.1 * len(train_dataset))  # Validation represents 10% of the training data\n",
    "training_size = len(train_dataset) - validation_size\n",
    "\n",
    "train_dataset, validation_dataset = random_split(train_dataset, \n",
    "                                                 [training_size, validation_size])\n",
    "len(train_dataset), len(validation_dataset) "
   ]
  },
  {
   "cell_type": "code",
   "execution_count": 5,
   "id": "severe-circus",
   "metadata": {
    "execution": {
     "iopub.execute_input": "2021-06-04T17:27:33.973029Z",
     "iopub.status.busy": "2021-06-04T17:27:33.972247Z",
     "iopub.status.idle": "2021-06-04T17:27:33.976916Z",
     "shell.execute_reply": "2021-06-04T17:27:33.976532Z",
     "shell.execute_reply.started": "2021-06-04T16:03:15.152533Z"
    },
    "papermill": {
     "duration": 0.02188,
     "end_time": "2021-06-04T17:27:33.977049",
     "exception": false,
     "start_time": "2021-06-04T17:27:33.955169",
     "status": "completed"
    },
    "tags": []
   },
   "outputs": [
    {
     "data": {
      "text/plain": [
       "131"
      ]
     },
     "execution_count": 5,
     "metadata": {},
     "output_type": "execute_result"
    }
   ],
   "source": [
    "# Get dataset classes\n",
    "classes = os.listdir(train_directory)\n",
    "\n",
    "len(classes)"
   ]
  },
  {
   "cell_type": "code",
   "execution_count": 6,
   "id": "accompanied-diving",
   "metadata": {
    "execution": {
     "iopub.execute_input": "2021-06-04T17:27:34.009587Z",
     "iopub.status.busy": "2021-06-04T17:27:34.009094Z",
     "iopub.status.idle": "2021-06-04T17:27:34.012799Z",
     "shell.execute_reply": "2021-06-04T17:27:34.012413Z",
     "shell.execute_reply.started": "2021-06-04T16:03:15.161693Z"
    },
    "papermill": {
     "duration": 0.021666,
     "end_time": "2021-06-04T17:27:34.012899",
     "exception": false,
     "start_time": "2021-06-04T17:27:33.991233",
     "status": "completed"
    },
    "tags": []
   },
   "outputs": [],
   "source": [
    "# Create data loaders from datasets\n",
    "batch_size = 32\n",
    "\n",
    "training_loader = DataLoader(dataset=train_dataset, batch_size=batch_size, shuffle=True)\n",
    "test_loader = DataLoader(dataset=test_dataset, batch_size=batch_size, shuffle=False)\n",
    "validation_loader = DataLoader(dataset=validation_dataset, batch_size=batch_size, shuffle=False)"
   ]
  },
  {
   "cell_type": "markdown",
   "id": "amazing-magazine",
   "metadata": {
    "papermill": {
     "duration": 0.014037,
     "end_time": "2021-06-04T17:27:34.041067",
     "exception": false,
     "start_time": "2021-06-04T17:27:34.027030",
     "status": "completed"
    },
    "tags": []
   },
   "source": [
    "## Training the model\n",
    "\n",
    "* Implement the train and evaluation steps\n",
    "* Implement the model training function\n",
    "* Load ResNet50 as backbone model\n",
    "* Set hyperparameters and model operations\n",
    "* Train the model"
   ]
  },
  {
   "cell_type": "code",
   "execution_count": 7,
   "id": "detailed-diploma",
   "metadata": {
    "execution": {
     "iopub.execute_input": "2021-06-04T17:27:34.125363Z",
     "iopub.status.busy": "2021-06-04T17:27:34.119696Z",
     "iopub.status.idle": "2021-06-04T17:27:34.129806Z",
     "shell.execute_reply": "2021-06-04T17:27:34.129403Z",
     "shell.execute_reply.started": "2021-06-04T16:03:15.173263Z"
    },
    "papermill": {
     "duration": 0.074688,
     "end_time": "2021-06-04T17:27:34.129922",
     "exception": false,
     "start_time": "2021-06-04T17:27:34.055234",
     "status": "completed"
    },
    "tags": []
   },
   "outputs": [
    {
     "data": {
      "text/plain": [
       "device(type='cuda', index=0)"
      ]
     },
     "execution_count": 7,
     "metadata": {},
     "output_type": "execute_result"
    }
   ],
   "source": [
    "device =  torch.device(\"cuda:0\" if torch.cuda.is_available() else \"cpu\")\n",
    "\n",
    "\n",
    "def training_step(model, criterion, optimizer, dataloader_train):\n",
    "    running_loss = 0.0\n",
    "\n",
    "    # Iterate over data.\n",
    "    for inputs, labels in dataloader_train:\n",
    "        inputs = inputs.to(device)\n",
    "        labels = labels.to(device)\n",
    "\n",
    "        # Zero the parameter gradients\n",
    "        optimizer.zero_grad()\n",
    "\n",
    "        with torch.set_grad_enabled(True):\n",
    "            outputs = model(inputs)\n",
    "            loss = criterion(outputs, labels)\n",
    "\n",
    "            loss.backward()\n",
    "            optimizer.step()\n",
    "\n",
    "        running_loss += loss.item()\n",
    "        \n",
    "    return running_loss\n",
    "\n",
    "\n",
    "def evaluation_step(model, criterion, optimizer, dataloader_val):\n",
    "    running_loss = 0.0\n",
    "    running_corrects = 0\n",
    "    \n",
    "    # Iterate over data.\n",
    "    for inputs, labels in dataloader_val:\n",
    "        inputs = inputs.to(device)\n",
    "        labels = labels.to(device)\n",
    "\n",
    "        outputs = model(inputs)\n",
    "        loss = criterion(outputs, labels)\n",
    "\n",
    "        running_loss += loss.item()\n",
    "        _, preds = torch.max(outputs, 1)\n",
    "        running_corrects += torch.sum(preds == labels.data)\n",
    "    \n",
    "    return running_loss, running_corrects\n",
    "\n",
    "\n",
    "def train_model(model, criterion, optimizer, scheduler, num_epochs=5):\n",
    "    history = {\n",
    "        'train_loss': list(),\n",
    "        'validation_loss': list(), \n",
    "        'validation_accuracy': list()\n",
    "    }\n",
    "    \n",
    "    since = time.time()\n",
    "    \n",
    "    best_model = copy.deepcopy(model.state_dict())\n",
    "    best_accuracy = 0.0\n",
    "\n",
    "    for epoch in range(num_epochs):\n",
    "        print(f'Epoch {epoch}/{num_epochs - 1}')\n",
    "        print('-' * 10)\n",
    "\n",
    "        # Training step\n",
    "        model.train() \n",
    "\n",
    "        running_loss = training_step(\n",
    "            model, criterion, optimizer, training_loader\n",
    "        )\n",
    "    \n",
    "        train_epoch_loss = running_loss / len(training_loader.dataset)\n",
    "        \n",
    "        scheduler.step()\n",
    "\n",
    "        # Evaluation step\n",
    "        model.eval()\n",
    "\n",
    "        running_loss, running_corrects = evaluation_step(\n",
    "            model, criterion, optimizer, validation_loader\n",
    "        )\n",
    "\n",
    "        validation_epoch_loss = running_loss / len(validation_loader.dataset)\n",
    "        epoch_accuracy = running_corrects.double() / len(validation_loader.dataset)\n",
    "\n",
    "        print(f'Training Loss: {train_epoch_loss:.4f} '\n",
    "            + f'Validation Loss: {validation_epoch_loss:.4f} '\n",
    "            + f'Accuracy: {epoch_accuracy:.4f}\\n')\n",
    "        \n",
    "        history['train_loss'].append(train_epoch_loss)\n",
    "        history['validation_loss'].append(validation_epoch_loss)\n",
    "        history['validation_accuracy'].append(epoch_accuracy)\n",
    "\n",
    "        # Deep copy the model if it presents the best accuracy\n",
    "        if epoch_accuracy > best_accuracy:\n",
    "            best_accuracy = epoch_accuracy\n",
    "            best_model = copy.deepcopy(model.state_dict())\n",
    "\n",
    "    time_elapsed = time.time() - since\n",
    "    minutes = time_elapsed // 60\n",
    "    seconds = time_elapsed % 60\n",
    "    \n",
    "    print(f'Training complete in {minutes:.0f}m {seconds:.0f}s')\n",
    "    print(f'Best accuracy: {best_accuracy:4f}')\n",
    "\n",
    "    # Load best model weights\n",
    "    model.load_state_dict(best_model)\n",
    "    return model, history\n",
    "\n",
    "\n",
    "device"
   ]
  },
  {
   "cell_type": "code",
   "execution_count": 8,
   "id": "personal-sixth",
   "metadata": {
    "execution": {
     "iopub.execute_input": "2021-06-04T17:27:34.171894Z",
     "iopub.status.busy": "2021-06-04T17:27:34.171281Z",
     "iopub.status.idle": "2021-06-04T17:27:41.224897Z",
     "shell.execute_reply": "2021-06-04T17:27:41.224406Z",
     "shell.execute_reply.started": "2021-06-04T16:03:15.278856Z"
    },
    "papermill": {
     "duration": 7.080435,
     "end_time": "2021-06-04T17:27:41.225048",
     "exception": false,
     "start_time": "2021-06-04T17:27:34.144613",
     "status": "completed"
    },
    "tags": []
   },
   "outputs": [
    {
     "name": "stderr",
     "output_type": "stream",
     "text": [
      "Downloading: \"https://download.pytorch.org/models/resnet50-19c8e357.pth\" to /root/.cache/torch/hub/checkpoints/resnet50-19c8e357.pth\n"
     ]
    },
    {
     "data": {
      "application/vnd.jupyter.widget-view+json": {
       "model_id": "eca9913b08b3469691518c1f0f78d8dc",
       "version_major": 2,
       "version_minor": 0
      },
      "text/plain": [
       "  0%|          | 0.00/97.8M [00:00<?, ?B/s]"
      ]
     },
     "metadata": {},
     "output_type": "display_data"
    }
   ],
   "source": [
    "# Load ResNet50 as backbone\n",
    "model_base = models.resnet50(pretrained=True)\n",
    "num_features = model_base.fc.in_features\n",
    "model_base.fc = nn.Linear(num_features, len(classes))\n",
    "\n",
    "# Load model to GPU\n",
    "model_base.to(device)\n",
    "\n",
    "# Hyper-parameters\n",
    "step_size  = 7\n",
    "gamma = 0.1\n",
    "\n",
    "criterion = nn.CrossEntropyLoss()\n",
    "optimizer_ft = torch.optim.Adam(model_base.parameters())\n",
    "scheduler = torch.optim.lr_scheduler.StepLR(optimizer_ft, step_size=step_size, gamma=gamma)"
   ]
  },
  {
   "cell_type": "code",
   "execution_count": 9,
   "id": "declared-bunny",
   "metadata": {
    "execution": {
     "iopub.execute_input": "2021-06-04T17:27:41.262156Z",
     "iopub.status.busy": "2021-06-04T17:27:41.261349Z",
     "iopub.status.idle": "2021-06-04T18:01:30.767271Z",
     "shell.execute_reply": "2021-06-04T18:01:30.767885Z",
     "shell.execute_reply.started": "2021-06-04T16:03:25.893091Z"
    },
    "papermill": {
     "duration": 2029.527185,
     "end_time": "2021-06-04T18:01:30.768115",
     "exception": false,
     "start_time": "2021-06-04T17:27:41.240930",
     "status": "completed"
    },
    "tags": []
   },
   "outputs": [
    {
     "name": "stdout",
     "output_type": "stream",
     "text": [
      "Epoch 0/2\n",
      "----------\n",
      "Training Loss: 0.0167 Validation Loss: 0.0020 Accuracy: 0.9787\n",
      "\n",
      "Epoch 1/2\n",
      "----------\n",
      "Training Loss: 0.0023 Validation Loss: 0.0006 Accuracy: 0.9934\n",
      "\n",
      "Epoch 2/2\n",
      "----------\n",
      "Training Loss: 0.0012 Validation Loss: 0.0040 Accuracy: 0.9601\n",
      "\n",
      "Training complete in 33m 49s\n",
      "Best accuracy: 0.993352\n"
     ]
    }
   ],
   "source": [
    "model, history = train_model(model_base, criterion, optimizer_ft, scheduler, num_epochs=3)"
   ]
  },
  {
   "cell_type": "markdown",
   "id": "electrical-costs",
   "metadata": {
    "papermill": {
     "duration": 0.016223,
     "end_time": "2021-06-04T18:01:30.802340",
     "exception": false,
     "start_time": "2021-06-04T18:01:30.786117",
     "status": "completed"
    },
    "tags": []
   },
   "source": [
    "## Evaluating the model\n",
    "\n",
    "* Plot the model accuracyand loss over the epochs\n",
    "* Measure the model accuracy for the test dataset\n",
    "* Assess the dataset classes for each evalution metric\n",
    "* Plot the heatmap with the results"
   ]
  },
  {
   "cell_type": "code",
   "execution_count": 10,
   "id": "ancient-subscription",
   "metadata": {
    "execution": {
     "iopub.execute_input": "2021-06-04T18:01:30.855109Z",
     "iopub.status.busy": "2021-06-04T18:01:30.854357Z",
     "iopub.status.idle": "2021-06-04T18:01:30.966007Z",
     "shell.execute_reply": "2021-06-04T18:01:30.966382Z",
     "shell.execute_reply.started": "2021-06-04T16:36:55.422602Z"
    },
    "papermill": {
     "duration": 0.147819,
     "end_time": "2021-06-04T18:01:30.966509",
     "exception": false,
     "start_time": "2021-06-04T18:01:30.818690",
     "status": "completed"
    },
    "tags": []
   },
   "outputs": [
    {
     "data": {
      "image/png": "[encoded data removed]",
      "text/plain": [
       "<Figure size 432x288 with 1 Axes>"
      ]
     },
     "metadata": {
      "needs_background": "light"
     },
     "output_type": "display_data"
    }
   ],
   "source": [
    "def plot_accuracy(history):\n",
    "    accuracy = history[\"validation_accuracy\"]\n",
    "    epochs = range(len(accuracy))\n",
    "    \n",
    "    plt.plot(accuracy, \"-x\")\n",
    "    plt.xticks(epochs)\n",
    "\n",
    "    plt.title(\"Accuracy x Number of Epochs\")\n",
    "    plt.xlabel(\"Epochs\")\n",
    "    plt.ylabel(\"Accuracy\")\n",
    "\n",
    "\n",
    "plot_accuracy(history)"
   ]
  },
  {
   "cell_type": "code",
   "execution_count": 11,
   "id": "eight-mixture",
   "metadata": {
    "execution": {
     "iopub.execute_input": "2021-06-04T18:01:31.019627Z",
     "iopub.status.busy": "2021-06-04T18:01:31.018834Z",
     "iopub.status.idle": "2021-06-04T18:01:31.126470Z",
     "shell.execute_reply": "2021-06-04T18:01:31.126827Z",
     "shell.execute_reply.started": "2021-06-04T16:36:55.574926Z"
    },
    "papermill": {
     "duration": 0.143498,
     "end_time": "2021-06-04T18:01:31.126946",
     "exception": false,
     "start_time": "2021-06-04T18:01:30.983448",
     "status": "completed"
    },
    "tags": []
   },
   "outputs": [
    {
     "data": {
      "image/png": "[encoded data removed]",
      "text/plain": [
       "<Figure size 432x288 with 1 Axes>"
      ]
     },
     "metadata": {
      "needs_background": "light"
     },
     "output_type": "display_data"
    }
   ],
   "source": [
    "def plot_losses(history):\n",
    "    train_loss = history[\"train_loss\"]\n",
    "    validation_loss = history[\"validation_loss\"]\n",
    "    epochs = range(len(train_loss))\n",
    "    \n",
    "    plt.plot(train_loss, \"-rx\")  # r = Red\n",
    "    plt.plot(validation_loss, \"-bx\")  # b = Blue\n",
    "    plt.xticks(epochs)\n",
    "    \n",
    "    plt.legend([\"Training loss\", \"Validation loss\"])\n",
    "    plt.xlabel(\"Epochs\")\n",
    "    plt.ylabel(\"Losses (%)\")\n",
    "\n",
    "\n",
    "plot_losses(history)"
   ]
  },
  {
   "cell_type": "code",
   "execution_count": 12,
   "id": "productive-adventure",
   "metadata": {
    "execution": {
     "iopub.execute_input": "2021-06-04T18:01:31.168681Z",
     "iopub.status.busy": "2021-06-04T18:01:31.168110Z",
     "iopub.status.idle": "2021-06-04T18:04:18.956111Z",
     "shell.execute_reply": "2021-06-04T18:04:18.956699Z",
     "shell.execute_reply.started": "2021-06-04T16:36:55.709359Z"
    },
    "papermill": {
     "duration": 167.812268,
     "end_time": "2021-06-04T18:04:18.956899",
     "exception": false,
     "start_time": "2021-06-04T18:01:31.144631",
     "status": "completed"
    },
    "tags": []
   },
   "outputs": [
    {
     "name": "stdout",
     "output_type": "stream",
     "text": [
      "Accuracy: 0.9819\n"
     ]
    }
   ],
   "source": [
    "def evaluate(model, data_loader):\n",
    "    correct_predictions = 0.0\n",
    "    model.eval()\n",
    "    y_hat = list()\n",
    "    y_true = list()\n",
    "    \n",
    "    for (inputs, labels) in data_loader:\n",
    "        inputs = inputs.to(device)\n",
    "        labels = labels.to(device)\n",
    "\n",
    "        outputs = model(inputs)\n",
    "        _, preds = torch.max(outputs, 1)\n",
    "        \n",
    "        y_hat.append(preds)\n",
    "        correct_predictions += torch.sum(preds == labels.data)\n",
    "\n",
    "    accuracy = correct_predictions.double() / len(data_loader.dataset)\n",
    "    return accuracy, y_true, y_hat\n",
    "\n",
    "\n",
    "accuracy, y_true, y_hat = evaluate(model, test_loader)\n",
    "print(f'Accuracy: {accuracy:.4f}')"
   ]
  },
  {
   "cell_type": "code",
   "execution_count": 13,
   "id": "strong-bonus",
   "metadata": {
    "execution": {
     "iopub.execute_input": "2021-06-04T18:04:19.000883Z",
     "iopub.status.busy": "2021-06-04T18:04:19.000116Z",
     "iopub.status.idle": "2021-06-04T18:05:04.118804Z",
     "shell.execute_reply": "2021-06-04T18:05:04.119877Z",
     "shell.execute_reply.started": "2021-06-04T16:39:18.540455Z"
    },
    "papermill": {
     "duration": 45.143577,
     "end_time": "2021-06-04T18:05:04.120103",
     "exception": false,
     "start_time": "2021-06-04T18:04:18.976526",
     "status": "completed"
    },
    "tags": []
   },
   "outputs": [
    {
     "name": "stdout",
     "output_type": "stream",
     "text": [
      "                     precision    recall  f1-score   support\n",
      "\n",
      "             Quince       0.93      1.00      0.96       164\n",
      "   Grapefruit White       0.99      1.00      1.00       148\n",
      "         Granadilla       1.00      1.00      1.00       160\n",
      "             Orange       1.00      1.00      1.00       164\n",
      "        Apple Red 3       1.00      1.00      1.00       161\n",
      "      Grape White 2       1.00      1.00      1.00       164\n",
      "          Corn Husk       1.00      1.00      1.00       152\n",
      "          Tamarillo       1.00      1.00      1.00       164\n",
      "         Banana Red       1.00      0.96      0.98       164\n",
      "     Nectarine Flat       1.00      1.00      1.00       144\n",
      "      Pepper Yellow       0.96      1.00      0.98       166\n",
      "         Nut Forest       1.00      1.00      1.00       164\n",
      "       Pear Monster       1.00      1.00      1.00       219\n",
      "                Fig       1.00      1.00      1.00       164\n",
      "       Tomato Heart       1.00      1.00      1.00       143\n",
      "   Onion Red Peeled       1.00      1.00      1.00       166\n",
      "        Lemon Meyer       1.00      1.00      1.00       166\n",
      "          Onion Red       1.00      1.00      1.00       152\n",
      "      Passion Fruit       0.92      1.00      0.96       166\n",
      "      Cucumber Ripe       1.00      0.93      0.96       150\n",
      "       Cactus fruit       1.00      1.00      1.00       154\n",
      " Tomato not Ripened       1.00      1.00      1.00       166\n",
      "          Mango Red       1.00      1.00      1.00       164\n",
      "    Apple Pink Lady       1.00      0.99      1.00       164\n",
      "        Pomegranate       1.00      0.94      0.97       166\n",
      "               Plum       1.00      1.00      1.00       234\n",
      "          Pineapple       1.00      1.00      1.00       164\n",
      "           Tomato 1       0.95      1.00      0.97       246\n",
      "           Cherry 2       1.00      1.00      1.00       246\n",
      "        Apple Red 2       1.00      1.00      1.00       164\n",
      "       Avocado ripe       1.00      1.00      1.00       164\n",
      "              Dates       0.78      1.00      0.88       164\n",
      "           Maracuja       0.95      0.95      0.95       153\n",
      "             Papaya       1.00      1.00      1.00       166\n",
      "          Nut Pecan       0.87      1.00      0.93       166\n",
      "         Pear Stone       0.99      0.88      0.93       150\n",
      "  Cherry Wax Yellow       1.00      0.66      0.80       154\n",
      "           Eggplant       1.00      1.00      1.00       130\n",
      "     Apple Golden 2       1.00      1.00      1.00       156\n",
      "              Guava       1.00      1.00      1.00       166\n",
      "           Beetroot       1.00      0.85      0.92       156\n",
      "      Tomato Maroon       1.00      1.00      1.00       234\n",
      "         Potato Red       1.00      0.93      0.96        99\n",
      "Apple Red Delicious       1.00      1.00      1.00       166\n",
      "     Cherry Wax Red       1.00      1.00      1.00       328\n",
      "               Kiwi       1.00      1.00      1.00       164\n",
      "   Cherry Wax Black       0.87      1.00      0.93       166\n",
      "              Limes       0.99      1.00      1.00       166\n",
      "       Cantaloupe 2       1.00      1.00      1.00       164\n",
      "     Apple Braeburn       1.00      1.00      1.00       158\n",
      "               Pear       1.00      1.00      1.00       166\n",
      "          Carambula       1.00      1.00      1.00       164\n",
      "           Tomato 3       1.00      1.00      1.00       166\n",
      "        Onion White       0.98      1.00      0.99       157\n",
      "           Cherry 1       1.00      1.00      1.00       166\n",
      "         Strawberry       1.00      1.00      1.00       166\n",
      "             Lychee       1.00      1.00      1.00       156\n",
      "         Redcurrant       0.99      1.00      1.00       157\n",
      "           Rambutan       1.00      1.00      1.00       166\n",
      "  Potato Red Washed       1.00      1.00      1.00       164\n",
      "           Tomato 4       1.00      1.00      1.00       166\n",
      "           Hazelnut       1.00      1.00      1.00       166\n",
      "      Tomato Yellow       1.00      1.00      1.00       166\n",
      "             Plum 3       1.00      1.00      1.00       166\n",
      "        Grape White       1.00      1.00      1.00       166\n",
      "     Pineapple Mini       0.97      0.99      0.98       142\n",
      "           Mulberry       0.98      1.00      0.99       102\n",
      "         Grape Blue       1.00      1.00      1.00       166\n",
      "         Pear Abate       0.97      1.00      0.98       246\n",
      " Melon Piel de Sapo       1.00      1.00      1.00       164\n",
      "      Pepper Orange       1.00      1.00      1.00       164\n",
      "        Cauliflower       1.00      1.00      1.00       160\n",
      "          Nectarine       1.00      1.00      1.00       218\n",
      "              Salak       0.99      0.96      0.97       178\n",
      "              Cocos       1.00      1.00      1.00       150\n",
      "           Chestnut       1.00      1.00      1.00       155\n",
      "          Blueberry       0.98      1.00      0.99       146\n",
      " Apple Granny Smith       1.00      1.00      1.00       160\n",
      " Banana Lady Finger       1.00      1.00      1.00       164\n",
      "            Apricot       1.00      1.00      1.00       166\n",
      "             Walnut       1.00      1.00      1.00       164\n",
      " Apple Crimson Snow       0.96      1.00      0.98       246\n",
      "    Grapefruit Pink       0.98      1.00      0.99       164\n",
      "            Tangelo       1.00      1.00      1.00       164\n",
      "         Peach Flat       1.00      1.00      1.00       232\n",
      "       Pear Forelle       1.00      0.90      0.95       166\n",
      "         Pepper Red       1.00      1.00      1.00       234\n",
      "  Tomato Cherry Red       1.00      1.00      1.00       102\n",
      "      Pear Williams       1.00      1.00      1.00       166\n",
      "         Clementine       0.98      1.00      0.99       222\n",
      "     Apple Golden 3       0.88      1.00      0.94       237\n",
      "        Apple Red 1       1.00      1.00      1.00       166\n",
      "             Pear 2       1.00      1.00      1.00       166\n",
      "             Plum 2       0.81      1.00      0.89       148\n",
      "       Cantaloupe 1       1.00      0.34      0.51       234\n",
      "              Lemon       1.00      1.00      1.00       222\n",
      " Physalis with Husk       0.68      1.00      0.81       222\n",
      "            Peach 2       1.00      1.00      1.00       164\n",
      "             Pepino       0.96      0.99      0.98       164\n",
      "        Huckleberry       1.00      0.95      0.98       166\n",
      "       Potato White       1.00      1.00      1.00       163\n",
      "       Pitahaya Red       1.00      1.00      1.00       166\n",
      "     Apple Golden 1       1.00      1.00      1.00       151\n",
      "     Pomelo Sweetie       1.00      1.00      1.00       142\n",
      "     Cherry Rainier       1.00      1.00      1.00       304\n",
      "            Avocado       1.00      0.88      0.94       164\n",
      " Apple Red Yellow 2       1.00      1.00      1.00       153\n",
      "          Raspberry       0.95      0.97      0.96       150\n",
      "          Mangostan       1.00      0.97      0.98       151\n",
      "   Strawberry Wedge       0.93      0.99      0.96       150\n",
      "               Kaki       0.96      1.00      0.98       150\n",
      "          Mandarine       0.94      1.00      0.97       166\n",
      "       Potato Sweet       1.00      0.91      0.95       164\n",
      "    Cucumber Ripe 2       1.00      1.00      1.00       166\n",
      "           Kumquats       1.00      1.00      1.00       164\n",
      "           Pear Red       1.00      1.00      1.00       162\n",
      "        Ginger Root       1.00      1.00      1.00       164\n",
      "           Physalis       1.00      0.99      0.99       246\n",
      "        Pear Kaiser       1.00      1.00      1.00       166\n",
      "              Peach       1.00      1.00      1.00       166\n",
      "               Corn       1.00      1.00      1.00       246\n",
      "      Grape White 3       1.00      1.00      1.00       225\n",
      " Apple Red Yellow 1       1.00      1.00      1.00       246\n",
      "         Grape Pink       1.00      1.00      1.00       160\n",
      "             Banana       1.00      1.00      1.00       164\n",
      "      Grape White 4       1.00      0.98      0.99       228\n",
      "           Kohlrabi       0.97      1.00      0.98       127\n",
      "       Pepper Green       1.00      1.00      1.00       153\n",
      "         Watermelon       1.00      0.78      0.88       158\n",
      "              Mango       1.00      1.00      1.00       249\n",
      "           Tomato 2       0.99      1.00      0.99       157\n",
      "\n",
      "           accuracy                           0.98     22688\n",
      "          macro avg       0.99      0.98      0.98     22688\n",
      "       weighted avg       0.98      0.98      0.98     22688\n",
      "\n"
     ]
    },
    {
     "data": {
      "image/png": "[encoded data removed]",
      "text/plain": [
       "<Figure size 1440x1440 with 2 Axes>"
      ]
     },
     "metadata": {
      "needs_background": "light"
     },
     "output_type": "display_data"
    }
   ],
   "source": [
    "def evaluate_classes(data_loader, y_true, y_hat):\n",
    "    Y_true = list()\n",
    "    Y_hat = list()\n",
    "    \n",
    "    for inputs, labels in iter(data_loader):\n",
    "        for y_true in labels.cpu().numpy():\n",
    "            Y_true.append(y_true)\n",
    "\n",
    "    for joint in y_hat:\n",
    "        for label in joint.cpu().numpy():\n",
    "            Y_hat.append(label)\n",
    "        \n",
    "    report = classification_report(Y_true, Y_hat, target_names=classes, zero_division=0)\n",
    "    plt.rcParams[\"figure.figsize\"] = (20,20)\n",
    "\n",
    "    sns.heatmap(confusion_matrix(Y_true, Y_hat))\n",
    "    \n",
    "    return report\n",
    "\n",
    "\n",
    "report = evaluate_classes(test_loader, y_true, y_hat)\n",
    "print(report)"
   ]
  },
  {
   "cell_type": "markdown",
   "id": "billion-plenty",
   "metadata": {
    "papermill": {
     "duration": 0.031891,
     "end_time": "2021-06-04T18:05:04.185074",
     "exception": false,
     "start_time": "2021-06-04T18:05:04.153183",
     "status": "completed"
    },
    "tags": []
   },
   "source": [
    "## Applying the model\n",
    "\n",
    "* Randomly select and classify images from the test dataset\n",
    "* Model output is presented as a probability score for all classes"
   ]
  },
  {
   "cell_type": "code",
   "execution_count": 14,
   "id": "finished-extent",
   "metadata": {
    "execution": {
     "iopub.execute_input": "2021-06-04T18:05:04.259463Z",
     "iopub.status.busy": "2021-06-04T18:05:04.258267Z",
     "iopub.status.idle": "2021-06-04T18:05:04.260107Z",
     "shell.execute_reply": "2021-06-04T18:05:04.258839Z",
     "shell.execute_reply.started": "2021-06-04T17:24:36.871615Z"
    },
    "papermill": {
     "duration": 0.042728,
     "end_time": "2021-06-04T18:05:04.260235",
     "exception": false,
     "start_time": "2021-06-04T18:05:04.217507",
     "status": "completed"
    },
    "tags": []
   },
   "outputs": [],
   "source": [
    "def predict(image_input, model):\n",
    "    image = image_input.unsqueeze(0).to(device)\n",
    "    output = model(image)\n",
    "\n",
    "    probabilities = nnf.softmax(output, dim=1)[0]    \n",
    "    \n",
    "    probabilities_classes = [\n",
    "        (classes[index], probability) for index, probability in enumerate(probabilities)\n",
    "    ]\n",
    "    \n",
    "    # Order dict by highest probability\n",
    "    ordered_probabilities = sorted(\n",
    "        probabilities_classes, \n",
    "        key=lambda probability_class: probability_class[1],\n",
    "        reverse=True\n",
    "    )    \n",
    "    \n",
    "    return ordered_probabilities"
   ]
  },
  {
   "cell_type": "code",
   "execution_count": 15,
   "id": "unsigned-weekly",
   "metadata": {
    "execution": {
     "iopub.execute_input": "2021-06-04T18:05:04.315939Z",
     "iopub.status.busy": "2021-06-04T18:05:04.315161Z",
     "iopub.status.idle": "2021-06-04T18:05:04.518548Z",
     "shell.execute_reply": "2021-06-04T18:05:04.518121Z",
     "shell.execute_reply.started": "2021-06-04T17:26:33.698429Z"
    },
    "papermill": {
     "duration": 0.229267,
     "end_time": "2021-06-04T18:05:04.518650",
     "exception": false,
     "start_time": "2021-06-04T18:05:04.289383",
     "status": "completed"
    },
    "tags": []
   },
   "outputs": [
    {
     "data": {
      "image/png": "[encoded data removed]",
      "text/plain": [
       "<Figure size 320x240 with 1 Axes>"
      ]
     },
     "metadata": {
      "needs_background": "light"
     },
     "output_type": "display_data"
    },
    {
     "name": "stdout",
     "output_type": "stream",
     "text": [
      "Label: Apple Crimson Snow\n",
      "\n",
      "Probability scores\n",
      "Apple Crimson Snow             1.0000\n",
      "Dates                          0.0000\n",
      "Potato Red Washed              0.0000\n",
      "Lychee                         0.0000\n",
      "Cantaloupe 2                   0.0000\n",
      "Kaki                           0.0000\n",
      "Blueberry                      0.0000\n",
      "Lemon Meyer                    0.0000\n",
      "Pear Stone                     0.0000\n",
      "Limes                          0.0000\n",
      "Apple Golden 2                 0.0000\n",
      "Apple Red Yellow 2             0.0000\n",
      "Tomato not Ripened             0.0000\n",
      "Corn Husk                      0.0000\n",
      "Pomegranate                    0.0000\n",
      "Banana Red                     0.0000\n",
      "Tangelo                        0.0000\n",
      "Plum 3                         0.0000\n",
      "Pepino                         0.0000\n",
      "Pear Monster                   0.0000\n",
      "Physalis with Husk             0.0000\n",
      "Peach 2                        0.0000\n",
      "Strawberry Wedge               0.0000\n",
      "Nectarine                      0.0000\n",
      "Kohlrabi                       0.0000\n",
      "Cherry Wax Black               0.0000\n",
      "Grapefruit Pink                0.0000\n",
      "Apple Braeburn                 0.0000\n",
      "Grape Blue                     0.0000\n",
      "Granadilla                     0.0000\n",
      "Grape White 3                  0.0000\n",
      "Pear Abate                     0.0000\n",
      "Potato Red                     0.0000\n",
      "Banana Lady Finger             0.0000\n",
      "Orange                         0.0000\n",
      "Peach Flat                     0.0000\n",
      "Carambula                      0.0000\n",
      "Mango                          0.0000\n",
      "Mango Red                      0.0000\n",
      "Tomato 3                       0.0000\n",
      "Mangostan                      0.0000\n",
      "Apple Red 3                    0.0000\n",
      "Onion Red                      0.0000\n",
      "Walnut                         0.0000\n",
      "Pepper Red                     0.0000\n",
      "Grape White 2                  0.0000\n",
      "Raspberry                      0.0000\n",
      "Pear 2                         0.0000\n",
      "Clementine                     0.0000\n",
      "Cherry Rainier                 0.0000\n",
      "Apple Red Yellow 1             0.0000\n",
      "Maracuja                       0.0000\n",
      "Onion White                    0.0000\n",
      "Pineapple Mini                 0.0000\n",
      "Apple Pink Lady                0.0000\n",
      "Potato White                   0.0000\n",
      "Cantaloupe 1                   0.0000\n",
      "Grape Pink                     0.0000\n",
      "Apple Granny Smith             0.0000\n",
      "Kumquats                       0.0000\n",
      "Cherry 2                       0.0000\n",
      "Cucumber Ripe 2                0.0000\n",
      "Plum                           0.0000\n",
      "Cocos                          0.0000\n",
      "Onion Red Peeled               0.0000\n",
      "Tomato 4                       0.0000\n",
      "Pear Williams                  0.0000\n",
      "Cherry 1                       0.0000\n",
      "Pear                           0.0000\n",
      "Tomato 2                       0.0000\n",
      "Grape White                    0.0000\n",
      "Kiwi                           0.0000\n",
      "Nut Forest                     0.0000\n",
      "Pepper Yellow                  0.0000\n",
      "Banana                         0.0000\n",
      "Pepper Green                   0.0000\n",
      "Eggplant                       0.0000\n",
      "Chestnut                       0.0000\n",
      "Apple Red Delicious            0.0000\n",
      "Peach                          0.0000\n",
      "Potato Sweet                   0.0000\n",
      "Pear Forelle                   0.0000\n",
      "Cherry Wax Red                 0.0000\n",
      "Apricot                        0.0000\n",
      "Nectarine Flat                 0.0000\n",
      "Rambutan                       0.0000\n",
      "Salak                          0.0000\n",
      "Melon Piel de Sapo             0.0000\n",
      "Fig                            0.0000\n",
      "Physalis                       0.0000\n",
      "Apple Red 1                    0.0000\n",
      "Mandarine                      0.0000\n",
      "Lemon                          0.0000\n",
      "Hazelnut                       0.0000\n",
      "Tomato Cherry Red              0.0000\n",
      "Redcurrant                     0.0000\n",
      "Tamarillo                      0.0000\n",
      "Cauliflower                    0.0000\n",
      "Pepper Orange                  0.0000\n",
      "Pineapple                      0.0000\n",
      "Mulberry                       0.0000\n",
      "Guava                          0.0000\n",
      "Strawberry                     0.0000\n",
      "Corn                           0.0000\n",
      "Tomato 1                       0.0000\n",
      "Pear Red                       0.0000\n",
      "Pitahaya Red                   0.0000\n",
      "Tomato Maroon                  0.0000\n",
      "Watermelon                     0.0000\n",
      "Nut Pecan                      0.0000\n",
      "Avocado ripe                   0.0000\n",
      "Plum 2                         0.0000\n",
      "Pear Kaiser                    0.0000\n",
      "Ginger Root                    0.0000\n",
      "Avocado                        0.0000\n",
      "Beetroot                       0.0000\n",
      "Cactus fruit                   0.0000\n",
      "Apple Red 2                    0.0000\n",
      "Huckleberry                    0.0000\n",
      "Cucumber Ripe                  0.0000\n",
      "Apple Golden 3                 0.0000\n",
      "Quince                         0.0000\n",
      "Grapefruit White               0.0000\n",
      "Passion Fruit                  0.0000\n",
      "Pomelo Sweetie                 0.0000\n",
      "Apple Golden 1                 0.0000\n",
      "Grape White 4                  0.0000\n",
      "Cherry Wax Yellow              0.0000\n",
      "Tomato Yellow                  0.0000\n",
      "Papaya                         0.0000\n",
      "Tomato Heart                   0.0000\n"
     ]
    }
   ],
   "source": [
    "# Randonmly chooses an image\n",
    "image, label = choice(test_dataset)\n",
    "\n",
    "# Display image and true label\n",
    "plt.figure(figsize=(4, 3), dpi=80)\n",
    "plt.imshow(image.permute(1,2,0))\n",
    "plt.show()\n",
    "\n",
    "print(f\"Label: {classes[label]}\\n\")\n",
    "\n",
    "probabilities = predict(image, model)\n",
    "\n",
    "print(\"Probability scores\")\n",
    "\n",
    "for fruit_class, probability in probabilities:\n",
    "    print(f\"{fruit_class:30s} {probability:.4f}\")"
   ]
  }
 ],
 "metadata": {
  "kernelspec": {
   "display_name": "Python 3",
   "language": "python",
   "name": "python3"
  },
  "language_info": {
   "codemirror_mode": {
    "name": "ipython",
    "version": 3
   },
   "file_extension": ".py",
   "mimetype": "text/x-python",
   "name": "python",
   "nbconvert_exporter": "python",
   "pygments_lexer": "ipython3",
   "version": "3.7.10"
  },
  "papermill": {
   "default_parameters": {},
   "duration": 2279.181361,
   "end_time": "2021-06-04T18:05:06.613144",
   "environment_variables": {},
   "exception": null,
   "input_path": "__notebook__.ipynb",
   "output_path": "__notebook__.ipynb",
   "parameters": {},
   "start_time": "2021-06-04T17:27:07.431783",
   "version": "2.3.3"
  },
  "widgets": {
   "application/vnd.jupyter.widget-state+json": {
    "state": {
     "1f9b712580c5467cabccf769422acfa4": {
      "model_module": "@jupyter-widgets/base",
      "model_module_version": "1.2.0",
      "model_name": "LayoutModel",
      "state": {
       "_model_module": "@jupyter-widgets/base",
       "_model_module_version": "1.2.0",
       "_model_name": "LayoutModel",
       "_view_count": null,
       "_view_module": "@jupyter-widgets/base",
       "_view_module_version": "1.2.0",
       "_view_name": "LayoutView",
       "align_content": null,
       "align_items": null,
       "align_self": null,
       "border": null,
       "bottom": null,
       "display": null,
       "flex": null,
       "flex_flow": null,
       "grid_area": null,
       "grid_auto_columns": null,
       "grid_auto_flow": null,
       "grid_auto_rows": null,
       "grid_column": null,
       "grid_gap": null,
       "grid_row": null,
       "grid_template_areas": null,
       "grid_template_columns": null,
       "grid_template_rows": null,
       "height": null,
       "justify_content": null,
       "justify_items": null,
       "left": null,
       "margin": null,
       "max_height": null,
       "max_width": null,
       "min_height": null,
       "min_width": null,
       "object_fit": null,
       "object_position": null,
       "order": null,
       "overflow": null,
       "overflow_x": null,
       "overflow_y": null,
       "padding": null,
       "right": null,
       "top": null,
       "visibility": null,
       "width": null
      }
     },
     "36051fc98ebe449a92be729e8d9f0b7c": {
      "model_module": "@jupyter-widgets/controls",
      "model_module_version": "1.5.0",
      "model_name": "HTMLModel",
      "state": {
       "_dom_classes": [],
       "_model_module": "@jupyter-widgets/controls",
       "_model_module_version": "1.5.0",
       "_model_name": "HTMLModel",
       "_view_count": null,
       "_view_module": "@jupyter-widgets/controls",
       "_view_module_version": "1.5.0",
       "_view_name": "HTMLView",
       "description": "",
       "description_tooltip": null,
       "layout": "IPY_MODEL_d232d61d62294480b39082147041d677",
       "placeholder": "​",
       "style": "IPY_MODEL_ad9d88ad8c314205a108dff9bf74b8fb",
       "value": " 97.8M/97.8M [00:02&lt;00:00, 54.2MB/s]"
      }
     },
     "4d253b1876f04e739591bb31c39653de": {
      "model_module": "@jupyter-widgets/controls",
      "model_module_version": "1.5.0",
      "model_name": "ProgressStyleModel",
      "state": {
       "_model_module": "@jupyter-widgets/controls",
       "_model_module_version": "1.5.0",
       "_model_name": "ProgressStyleModel",
       "_view_count": null,
       "_view_module": "@jupyter-widgets/base",
       "_view_module_version": "1.2.0",
       "_view_name": "StyleView",
       "bar_color": null,
       "description_width": ""
      }
     },
     "98e5fb36351844dc8e75d2aac8808ffa": {
      "model_module": "@jupyter-widgets/base",
      "model_module_version": "1.2.0",
      "model_name": "LayoutModel",
      "state": {
       "_model_module": "@jupyter-widgets/base",
       "_model_module_version": "1.2.0",
       "_model_name": "LayoutModel",
       "_view_count": null,
       "_view_module": "@jupyter-widgets/base",
       "_view_module_version": "1.2.0",
       "_view_name": "LayoutView",
       "align_content": null,
       "align_items": null,
       "align_self": null,
       "border": null,
       "bottom": null,
       "display": null,
       "flex": null,
       "flex_flow": null,
       "grid_area": null,
       "grid_auto_columns": null,
       "grid_auto_flow": null,
       "grid_auto_rows": null,
       "grid_column": null,
       "grid_gap": null,
       "grid_row": null,
       "grid_template_areas": null,
       "grid_template_columns": null,
       "grid_template_rows": null,
       "height": null,
       "justify_content": null,
       "justify_items": null,
       "left": null,
       "margin": null,
       "max_height": null,
       "max_width": null,
       "min_height": null,
       "min_width": null,
       "object_fit": null,
       "object_position": null,
       "order": null,
       "overflow": null,
       "overflow_x": null,
       "overflow_y": null,
       "padding": null,
       "right": null,
       "top": null,
       "visibility": null,
       "width": null
      }
     },
     "a1ceae3a33414469913708eaa128c83e": {
      "model_module": "@jupyter-widgets/controls",
      "model_module_version": "1.5.0",
      "model_name": "HTMLModel",
      "state": {
       "_dom_classes": [],
       "_model_module": "@jupyter-widgets/controls",
       "_model_module_version": "1.5.0",
       "_model_name": "HTMLModel",
       "_view_count": null,
       "_view_module": "@jupyter-widgets/controls",
       "_view_module_version": "1.5.0",
       "_view_name": "HTMLView",
       "description": "",
       "description_tooltip": null,
       "layout": "IPY_MODEL_afb751aecffa4523a3efb18ecbaf66e3",
       "placeholder": "​",
       "style": "IPY_MODEL_f53fd7890eb148daa2df7573713ea5ee",
       "value": "100%"
      }
     },
     "ad9d88ad8c314205a108dff9bf74b8fb": {
      "model_module": "@jupyter-widgets/controls",
      "model_module_version": "1.5.0",
      "model_name": "DescriptionStyleModel",
      "state": {
       "_model_module": "@jupyter-widgets/controls",
       "_model_module_version": "1.5.0",
       "_model_name": "DescriptionStyleModel",
       "_view_count": null,
       "_view_module": "@jupyter-widgets/base",
       "_view_module_version": "1.2.0",
       "_view_name": "StyleView",
       "description_width": ""
      }
     },
     "afb751aecffa4523a3efb18ecbaf66e3": {
      "model_module": "@jupyter-widgets/base",
      "model_module_version": "1.2.0",
      "model_name": "LayoutModel",
      "state": {
       "_model_module": "@jupyter-widgets/base",
       "_model_module_version": "1.2.0",
       "_model_name": "LayoutModel",
       "_view_count": null,
       "_view_module": "@jupyter-widgets/base",
       "_view_module_version": "1.2.0",
       "_view_name": "LayoutView",
       "align_content": null,
       "align_items": null,
       "align_self": null,
       "border": null,
       "bottom": null,
       "display": null,
       "flex": null,
       "flex_flow": null,
       "grid_area": null,
       "grid_auto_columns": null,
       "grid_auto_flow": null,
       "grid_auto_rows": null,
       "grid_column": null,
       "grid_gap": null,
       "grid_row": null,
       "grid_template_areas": null,
       "grid_template_columns": null,
       "grid_template_rows": null,
       "height": null,
       "justify_content": null,
       "justify_items": null,
       "left": null,
       "margin": null,
       "max_height": null,
       "max_width": null,
       "min_height": null,
       "min_width": null,
       "object_fit": null,
       "object_position": null,
       "order": null,
       "overflow": null,
       "overflow_x": null,
       "overflow_y": null,
       "padding": null,
       "right": null,
       "top": null,
       "visibility": null,
       "width": null
      }
     },
     "d232d61d62294480b39082147041d677": {
      "model_module": "@jupyter-widgets/base",
      "model_module_version": "1.2.0",
      "model_name": "LayoutModel",
      "state": {
       "_model_module": "@jupyter-widgets/base",
       "_model_module_version": "1.2.0",
       "_model_name": "LayoutModel",
       "_view_count": null,
       "_view_module": "@jupyter-widgets/base",
       "_view_module_version": "1.2.0",
       "_view_name": "LayoutView",
       "align_content": null,
       "align_items": null,
       "align_self": null,
       "border": null,
       "bottom": null,
       "display": null,
       "flex": null,
       "flex_flow": null,
       "grid_area": null,
       "grid_auto_columns": null,
       "grid_auto_flow": null,
       "grid_auto_rows": null,
       "grid_column": null,
       "grid_gap": null,
       "grid_row": null,
       "grid_template_areas": null,
       "grid_template_columns": null,
       "grid_template_rows": null,
       "height": null,
       "justify_content": null,
       "justify_items": null,
       "left": null,
       "margin": null,
       "max_height": null,
       "max_width": null,
       "min_height": null,
       "min_width": null,
       "object_fit": null,
       "object_position": null,
       "order": null,
       "overflow": null,
       "overflow_x": null,
       "overflow_y": null,
       "padding": null,
       "right": null,
       "top": null,
       "visibility": null,
       "width": null
      }
     },
     "e66d6db6a2334c4cb9872b12e64dabec": {
      "model_module": "@jupyter-widgets/controls",
      "model_module_version": "1.5.0",
      "model_name": "FloatProgressModel",
      "state": {
       "_dom_classes": [],
       "_model_module": "@jupyter-widgets/controls",
       "_model_module_version": "1.5.0",
       "_model_name": "FloatProgressModel",
       "_view_count": null,
       "_view_module": "@jupyter-widgets/controls",
       "_view_module_version": "1.5.0",
       "_view_name": "ProgressView",
       "bar_style": "success",
       "description": "",
       "description_tooltip": null,
       "layout": "IPY_MODEL_1f9b712580c5467cabccf769422acfa4",
       "max": 102502400,
       "min": 0,
       "orientation": "horizontal",
       "style": "IPY_MODEL_4d253b1876f04e739591bb31c39653de",
       "value": 102502400
      }
     },
     "eca9913b08b3469691518c1f0f78d8dc": {
      "model_module": "@jupyter-widgets/controls",
      "model_module_version": "1.5.0",
      "model_name": "HBoxModel",
      "state": {
       "_dom_classes": [],
       "_model_module": "@jupyter-widgets/controls",
       "_model_module_version": "1.5.0",
       "_model_name": "HBoxModel",
       "_view_count": null,
       "_view_module": "@jupyter-widgets/controls",
       "_view_module_version": "1.5.0",
       "_view_name": "HBoxView",
       "box_style": "",
       "children": [
        "IPY_MODEL_a1ceae3a33414469913708eaa128c83e",
        "IPY_MODEL_e66d6db6a2334c4cb9872b12e64dabec",
        "IPY_MODEL_36051fc98ebe449a92be729e8d9f0b7c"
       ],
       "layout": "IPY_MODEL_98e5fb36351844dc8e75d2aac8808ffa"
      }
     },
     "f53fd7890eb148daa2df7573713ea5ee": {
      "model_module": "@jupyter-widgets/controls",
      "model_module_version": "1.5.0",
      "model_name": "DescriptionStyleModel",
      "state": {
       "_model_module": "@jupyter-widgets/controls",
       "_model_module_version": "1.5.0",
       "_model_name": "DescriptionStyleModel",
       "_view_count": null,
       "_view_module": "@jupyter-widgets/base",
       "_view_module_version": "1.2.0",
       "_view_name": "StyleView",
       "description_width": ""
      }
     }
    },
    "version_major": 2,
    "version_minor": 0
   }
  }
 },
 "nbformat": 4,
 "nbformat_minor": 5
}